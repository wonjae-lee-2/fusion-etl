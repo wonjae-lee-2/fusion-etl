{
    "metadata": {
        "kernelspec": {
            "name": "SQL",
            "display_name": "SQL",
            "language": "sql"
        },
        "language_info": {
            "name": "sql",
            "version": ""
        }
    },
    "nbformat_minor": 2,
    "nbformat": 4,
    "cells": [
        {
            "cell_type": "code",
            "source": [
                "SELECT *\r\n",
                "FROM INFORMATION_SCHEMA.TABLES\r\n",
                "WHERE TABLE_SCHEMA = 'srv'\r\n",
                "ORDER BY TABLE_NAME;"
            ],
            "metadata": {
                "azdata_cell_guid": "0c12a2d2-e984-40cb-85c9-91827a099335",
                "language": "sql"
            },
            "outputs": [
                {
                    "output_type": "display_data",
                    "data": {
                        "text/html": "(134 rows affected)"
                    },
                    "metadata": {}
                },
                {
                    "output_type": "display_data",
                    "data": {
                        "text/html": "Total execution time: 00:00:00.518"
                    },
                    "metadata": {}
                },
                {
                    "output_type": "execute_result",
                    "execution_count": 49,
                    "data": {
                        "application/vnd.dataresource+json": {
                            "schema": {
                                "fields": [
                                    {
                                        "name": "TABLE_CATALOG"
                                    },
                                    {
                                        "name": "TABLE_SCHEMA"
                                    },
                                    {
                                        "name": "TABLE_NAME"
                                    },
                                    {
                                        "name": "TABLE_TYPE"
                                    }
                                ]
                            },
                            "data": [
                                {
                                    "TABLE_CATALOG": "fusion",
                                    "TABLE_SCHEMA": "srv",
                                    "TABLE_NAME": "_ExecutionLog",
                                    "TABLE_TYPE": "BASE TABLE"
                                },
                                {
                                    "TABLE_CATALOG": "fusion",
                                    "TABLE_SCHEMA": "srv",
                                    "TABLE_NAME": "ABODBudgetLine",
                                    "TABLE_TYPE": "BASE TABLE"
                                },
                                {
                                    "TABLE_CATALOG": "fusion",
                                    "TABLE_SCHEMA": "srv",
                                    "TABLE_NAME": "Account",
                                    "TABLE_TYPE": "BASE TABLE"
                                },
                                {
                                    "TABLE_CATALOG": "fusion",
                                    "TABLE_SCHEMA": "srv",
                                    "TABLE_NAME": "AccountBudgetCategory",
                                    "TABLE_TYPE": "BASE TABLE"
                                },
                                {
                                    "TABLE_CATALOG": "fusion",
                                    "TABLE_SCHEMA": "srv",
                                    "TABLE_NAME": "AgeGroup",
                                    "TABLE_TYPE": "BASE TABLE"
                                },
                                {
                                    "TABLE_CATALOG": "fusion",
                                    "TABLE_SCHEMA": "srv",
                                    "TABLE_NAME": "AnnualStatisticalReport",
                                    "TABLE_TYPE": "BASE TABLE"
                                },
                                {
                                    "TABLE_CATALOG": "fusion",
                                    "TABLE_SCHEMA": "srv",
                                    "TABLE_NAME": "ApportionedBudgetLine",
                                    "TABLE_TYPE": "BASE TABLE"
                                },
                                {
                                    "TABLE_CATALOG": "fusion",
                                    "TABLE_SCHEMA": "srv",
                                    "TABLE_NAME": "ApvdABODBudgetLine",
                                    "TABLE_TYPE": "BASE TABLE"
                                },
                                {
                                    "TABLE_CATALOG": "fusion",
                                    "TABLE_SCHEMA": "srv",
                                    "TABLE_NAME": "ApvdApportionedBudgetLine",
                                    "TABLE_TYPE": "BASE TABLE"
                                },
                                {
                                    "TABLE_CATALOG": "fusion",
                                    "TABLE_SCHEMA": "srv",
                                    "TABLE_NAME": "ApvdOPSBudgetLine",
                                    "TABLE_TYPE": "BASE TABLE"
                                },
                                {
                                    "TABLE_CATALOG": "fusion",
                                    "TABLE_SCHEMA": "srv",
                                    "TABLE_NAME": "ApvdSTAFFOPBudgetLine",
                                    "TABLE_TYPE": "BASE TABLE"
                                },
                                {
                                    "TABLE_CATALOG": "fusion",
                                    "TABLE_SCHEMA": "srv",
                                    "TABLE_NAME": "ARNarrativeConfiguration",
                                    "TABLE_TYPE": "BASE TABLE"
                                },
                                {
                                    "TABLE_CATALOG": "fusion",
                                    "TABLE_SCHEMA": "srv",
                                    "TABLE_NAME": "ARNarrativeStrategy",
                                    "TABLE_TYPE": "BASE TABLE"
                                },
                                {
                                    "TABLE_CATALOG": "fusion",
                                    "TABLE_SCHEMA": "srv",
                                    "TABLE_NAME": "ARNarrativeStrategyImpactArea",
                                    "TABLE_TYPE": "BASE TABLE"
                                },
                                {
                                    "TABLE_CATALOG": "fusion",
                                    "TABLE_SCHEMA": "srv",
                                    "TABLE_NAME": "ARNarrativeStrategyOutcomeArea",
                                    "TABLE_TYPE": "BASE TABLE"
                                },
                                {
                                    "TABLE_CATALOG": "fusion",
                                    "TABLE_SCHEMA": "srv",
                                    "TABLE_NAME": "BudgetCategory",
                                    "TABLE_TYPE": "BASE TABLE"
                                },
                                {
                                    "TABLE_CATALOG": "fusion",
                                    "TABLE_SCHEMA": "srv",
                                    "TABLE_NAME": "ContingencyPlan",
                                    "TABLE_TYPE": "BASE TABLE"
                                },
                                {
                                    "TABLE_CATALOG": "fusion",
                                    "TABLE_SCHEMA": "srv",
                                    "TABLE_NAME": "CoreImpactIndicatorImpactArea",
                                    "TABLE_TYPE": "BASE TABLE"
                                },
                                {
                                    "TABLE_CATALOG": "fusion",
                                    "TABLE_SCHEMA": "srv",
                                    "TABLE_NAME": "CoreIndicatorActual",
                                    "TABLE_TYPE": "BASE TABLE"
                                },
                                {
                                    "TABLE_CATALOG": "fusion",
                                    "TABLE_SCHEMA": "srv",
                                    "TABLE_NAME": "CoreIndicatorActualDataLimit",
                                    "TABLE_TYPE": "BASE TABLE"
                                },
                                {
                                    "TABLE_CATALOG": "fusion",
                                    "TABLE_SCHEMA": "srv",
                                    "TABLE_NAME": "CoreIndicatorAGDActual",
                                    "TABLE_TYPE": "BASE TABLE"
                                },
                                {
                                    "TABLE_CATALOG": "fusion",
                                    "TABLE_SCHEMA": "srv",
                                    "TABLE_NAME": "CoreIndicatorAGDBaseline",
                                    "TABLE_TYPE": "BASE TABLE"
                                },
                                {
                                    "TABLE_CATALOG": "fusion",
                                    "TABLE_SCHEMA": "srv",
                                    "TABLE_NAME": "CoreIndicatorAGDPopulationType",
                                    "TABLE_TYPE": "BASE TABLE"
                                },
                                {
                                    "TABLE_CATALOG": "fusion",
                                    "TABLE_SCHEMA": "srv",
                                    "TABLE_NAME": "CoreIndicatorBaseline",
                                    "TABLE_TYPE": "BASE TABLE"
                                },
                                {
                                    "TABLE_CATALOG": "fusion",
                                    "TABLE_SCHEMA": "srv",
                                    "TABLE_NAME": "CoreIndicatorBaselineDataLimit",
                                    "TABLE_TYPE": "BASE TABLE"
                                },
                                {
                                    "TABLE_CATALOG": "fusion",
                                    "TABLE_SCHEMA": "srv",
                                    "TABLE_NAME": "CoreIndicatorMetaData",
                                    "TABLE_TYPE": "BASE TABLE"
                                },
                                {
                                    "TABLE_CATALOG": "fusion",
                                    "TABLE_SCHEMA": "srv",
                                    "TABLE_NAME": "CoreIndicatorPopulationType",
                                    "TABLE_TYPE": "BASE TABLE"
                                },
                                {
                                    "TABLE_CATALOG": "fusion",
                                    "TABLE_SCHEMA": "srv",
                                    "TABLE_NAME": "CoreIndicatorPopulationTypeConfiguration",
                                    "TABLE_TYPE": "BASE TABLE"
                                },
                                {
                                    "TABLE_CATALOG": "fusion",
                                    "TABLE_SCHEMA": "srv",
                                    "TABLE_NAME": "CoreIndicatorPopulationTypeYear",
                                    "TABLE_TYPE": "BASE TABLE"
                                },
                                {
                                    "TABLE_CATALOG": "fusion",
                                    "TABLE_SCHEMA": "srv",
                                    "TABLE_NAME": "CoreIndicatorScale",
                                    "TABLE_TYPE": "BASE TABLE"
                                },
                                {
                                    "TABLE_CATALOG": "fusion",
                                    "TABLE_SCHEMA": "srv",
                                    "TABLE_NAME": "CoreOutcomeIndicatorOutcomeArea",
                                    "TABLE_TYPE": "BASE TABLE"
                                },
                                {
                                    "TABLE_CATALOG": "fusion",
                                    "TABLE_SCHEMA": "srv",
                                    "TABLE_NAME": "CoreOutcomeIndicatorTarget",
                                    "TABLE_TYPE": "BASE TABLE"
                                },
                                {
                                    "TABLE_CATALOG": "fusion",
                                    "TABLE_SCHEMA": "srv",
                                    "TABLE_NAME": "CostCenter",
                                    "TABLE_TYPE": "BASE TABLE"
                                },
                                {
                                    "TABLE_CATALOG": "fusion",
                                    "TABLE_SCHEMA": "srv",
                                    "TABLE_NAME": "Country",
                                    "TABLE_TYPE": "BASE TABLE"
                                },
                                {
                                    "TABLE_CATALOG": "fusion",
                                    "TABLE_SCHEMA": "srv",
                                    "TABLE_NAME": "CPActivationTrigger",
                                    "TABLE_TYPE": "BASE TABLE"
                                },
                                {
                                    "TABLE_CATALOG": "fusion",
                                    "TABLE_SCHEMA": "srv",
                                    "TABLE_NAME": "CPOtherPartnersBudget",
                                    "TABLE_TYPE": "BASE TABLE"
                                },
                                {
                                    "TABLE_CATALOG": "fusion",
                                    "TABLE_SCHEMA": "srv",
                                    "TABLE_NAME": "CPPopulationPlanningFigures",
                                    "TABLE_TYPE": "BASE TABLE"
                                },
                                {
                                    "TABLE_CATALOG": "fusion",
                                    "TABLE_SCHEMA": "srv",
                                    "TABLE_NAME": "CPPreparednessActions",
                                    "TABLE_TYPE": "BASE TABLE"
                                },
                                {
                                    "TABLE_CATALOG": "fusion",
                                    "TABLE_SCHEMA": "srv",
                                    "TABLE_NAME": "CPUNHCRBudget",
                                    "TABLE_TYPE": "BASE TABLE"
                                },
                                {
                                    "TABLE_CATALOG": "fusion",
                                    "TABLE_SCHEMA": "srv",
                                    "TABLE_NAME": "Currency",
                                    "TABLE_TYPE": "BASE TABLE"
                                },
                                {
                                    "TABLE_CATALOG": "fusion",
                                    "TABLE_SCHEMA": "srv",
                                    "TABLE_NAME": "EnumerationValue",
                                    "TABLE_TYPE": "BASE TABLE"
                                },
                                {
                                    "TABLE_CATALOG": "fusion",
                                    "TABLE_SCHEMA": "srv",
                                    "TABLE_NAME": "EPMJobCode",
                                    "TABLE_TYPE": "BASE TABLE"
                                },
                                {
                                    "TABLE_CATALOG": "fusion",
                                    "TABLE_SCHEMA": "srv",
                                    "TABLE_NAME": "EstimatedStaffCost",
                                    "TABLE_TYPE": "BASE TABLE"
                                },
                                {
                                    "TABLE_CATALOG": "fusion",
                                    "TABLE_SCHEMA": "srv",
                                    "TABLE_NAME": "ExpenditureOrganisation",
                                    "TABLE_TYPE": "BASE TABLE"
                                },
                                {
                                    "TABLE_CATALOG": "fusion",
                                    "TABLE_SCHEMA": "srv",
                                    "TABLE_NAME": "GPIndicatorMetaData",
                                    "TABLE_TYPE": "BASE TABLE"
                                },
                                {
                                    "TABLE_CATALOG": "fusion",
                                    "TABLE_SCHEMA": "srv",
                                    "TABLE_NAME": "GPIndicatorPopulationTypeConfiguration",
                                    "TABLE_TYPE": "BASE TABLE"
                                },
                                {
                                    "TABLE_CATALOG": "fusion",
                                    "TABLE_SCHEMA": "srv",
                                    "TABLE_NAME": "GPIndicatorScale",
                                    "TABLE_TYPE": "BASE TABLE"
                                },
                                {
                                    "TABLE_CATALOG": "fusion",
                                    "TABLE_SCHEMA": "srv",
                                    "TABLE_NAME": "Grade",
                                    "TABLE_TYPE": "BASE TABLE"
                                },
                                {
                                    "TABLE_CATALOG": "fusion",
                                    "TABLE_SCHEMA": "srv",
                                    "TABLE_NAME": "HRJobCode",
                                    "TABLE_TYPE": "BASE TABLE"
                                },
                                {
                                    "TABLE_CATALOG": "fusion",
                                    "TABLE_SCHEMA": "srv",
                                    "TABLE_NAME": "HRLocation",
                                    "TABLE_TYPE": "BASE TABLE"
                                },
                                {
                                    "TABLE_CATALOG": "fusion",
                                    "TABLE_SCHEMA": "srv",
                                    "TABLE_NAME": "ImpactArea",
                                    "TABLE_TYPE": "BASE TABLE"
                                },
                                {
                                    "TABLE_CATALOG": "fusion",
                                    "TABLE_SCHEMA": "srv",
                                    "TABLE_NAME": "ImpactAreaValidity",
                                    "TABLE_TYPE": "BASE TABLE"
                                },
                                {
                                    "TABLE_CATALOG": "fusion",
                                    "TABLE_SCHEMA": "srv",
                                    "TABLE_NAME": "ImpactStatement",
                                    "TABLE_TYPE": "BASE TABLE"
                                },
                                {
                                    "TABLE_CATALOG": "fusion",
                                    "TABLE_SCHEMA": "srv",
                                    "TABLE_NAME": "ImpactStatementValidity",
                                    "TABLE_TYPE": "BASE TABLE"
                                },
                                {
                                    "TABLE_CATALOG": "fusion",
                                    "TABLE_SCHEMA": "srv",
                                    "TABLE_NAME": "Implementer",
                                    "TABLE_TYPE": "BASE TABLE"
                                },
                                {
                                    "TABLE_CATALOG": "fusion",
                                    "TABLE_SCHEMA": "srv",
                                    "TABLE_NAME": "ImplementerSite",
                                    "TABLE_TYPE": "BASE TABLE"
                                },
                                {
                                    "TABLE_CATALOG": "fusion",
                                    "TABLE_SCHEMA": "srv",
                                    "TABLE_NAME": "MappingCostCenter",
                                    "TABLE_TYPE": "BASE TABLE"
                                },
                                {
                                    "TABLE_CATALOG": "fusion",
                                    "TABLE_SCHEMA": "srv",
                                    "TABLE_NAME": "MEActivityEstimatedCost",
                                    "TABLE_TYPE": "BASE TABLE"
                                },
                                {
                                    "TABLE_CATALOG": "fusion",
                                    "TABLE_SCHEMA": "srv",
                                    "TABLE_NAME": "MoVCoreIndicatorPopulationType",
                                    "TABLE_TYPE": "BASE TABLE"
                                },
                                {
                                    "TABLE_CATALOG": "fusion",
                                    "TABLE_SCHEMA": "srv",
                                    "TABLE_NAME": "MoVUDGPIndicatorConfiguration",
                                    "TABLE_TYPE": "BASE TABLE"
                                },
                                {
                                    "TABLE_CATALOG": "fusion",
                                    "TABLE_SCHEMA": "srv",
                                    "TABLE_NAME": "MoVUDGPIndicatorPopulationType",
                                    "TABLE_TYPE": "BASE TABLE"
                                },
                                {
                                    "TABLE_CATALOG": "fusion",
                                    "TABLE_SCHEMA": "srv",
                                    "TABLE_NAME": "NarrativeConfiguration",
                                    "TABLE_TYPE": "BASE TABLE"
                                },
                                {
                                    "TABLE_CATALOG": "fusion",
                                    "TABLE_SCHEMA": "srv",
                                    "TABLE_NAME": "NarrativeContingencyPlan",
                                    "TABLE_TYPE": "BASE TABLE"
                                },
                                {
                                    "TABLE_CATALOG": "fusion",
                                    "TABLE_SCHEMA": "srv",
                                    "TABLE_NAME": "NarrativeCountry",
                                    "TABLE_TYPE": "BASE TABLE"
                                },
                                {
                                    "TABLE_CATALOG": "fusion",
                                    "TABLE_SCHEMA": "srv",
                                    "TABLE_NAME": "NarrativeCountryImpactStatement",
                                    "TABLE_TYPE": "BASE TABLE"
                                },
                                {
                                    "TABLE_CATALOG": "fusion",
                                    "TABLE_SCHEMA": "srv",
                                    "TABLE_NAME": "NarrativeCountryOutcomeStatement",
                                    "TABLE_TYPE": "BASE TABLE"
                                },
                                {
                                    "TABLE_CATALOG": "fusion",
                                    "TABLE_SCHEMA": "srv",
                                    "TABLE_NAME": "NarrativeCountryOutputStatement",
                                    "TABLE_TYPE": "BASE TABLE"
                                },
                                {
                                    "TABLE_CATALOG": "fusion",
                                    "TABLE_SCHEMA": "srv",
                                    "TABLE_NAME": "NarrativeCountryStrategy",
                                    "TABLE_TYPE": "BASE TABLE"
                                },
                                {
                                    "TABLE_CATALOG": "fusion",
                                    "TABLE_SCHEMA": "srv",
                                    "TABLE_NAME": "NarrativeCountryStrategyCoreInd",
                                    "TABLE_TYPE": "BASE TABLE"
                                },
                                {
                                    "TABLE_CATALOG": "fusion",
                                    "TABLE_SCHEMA": "srv",
                                    "TABLE_NAME": "NarrativeImpactStatement",
                                    "TABLE_TYPE": "BASE TABLE"
                                },
                                {
                                    "TABLE_CATALOG": "fusion",
                                    "TABLE_SCHEMA": "srv",
                                    "TABLE_NAME": "NarrativeOutcomeStatement",
                                    "TABLE_TYPE": "BASE TABLE"
                                },
                                {
                                    "TABLE_CATALOG": "fusion",
                                    "TABLE_SCHEMA": "srv",
                                    "TABLE_NAME": "NarrativeOutputStatement",
                                    "TABLE_TYPE": "BASE TABLE"
                                },
                                {
                                    "TABLE_CATALOG": "fusion",
                                    "TABLE_SCHEMA": "srv",
                                    "TABLE_NAME": "NarrativeStrategy",
                                    "TABLE_TYPE": "BASE TABLE"
                                },
                                {
                                    "TABLE_CATALOG": "fusion",
                                    "TABLE_SCHEMA": "srv",
                                    "TABLE_NAME": "NarrativeStrategyPlan",
                                    "TABLE_TYPE": "BASE TABLE"
                                },
                                {
                                    "TABLE_CATALOG": "fusion",
                                    "TABLE_SCHEMA": "srv",
                                    "TABLE_NAME": "NarrativeStrategyPlanCoreInd",
                                    "TABLE_TYPE": "BASE TABLE"
                                },
                                {
                                    "TABLE_CATALOG": "fusion",
                                    "TABLE_SCHEMA": "srv",
                                    "TABLE_NAME": "NarrativeUDGPIndicatorConfiguration",
                                    "TABLE_TYPE": "BASE TABLE"
                                },
                                {
                                    "TABLE_CATALOG": "fusion",
                                    "TABLE_SCHEMA": "srv",
                                    "TABLE_NAME": "Office",
                                    "TABLE_TYPE": "BASE TABLE"
                                },
                                {
                                    "TABLE_CATALOG": "fusion",
                                    "TABLE_SCHEMA": "srv",
                                    "TABLE_NAME": "OfficeHistory",
                                    "TABLE_TYPE": "BASE TABLE"
                                },
                                {
                                    "TABLE_CATALOG": "fusion",
                                    "TABLE_SCHEMA": "srv",
                                    "TABLE_NAME": "Operation",
                                    "TABLE_TYPE": "BASE TABLE"
                                },
                                {
                                    "TABLE_CATALOG": "fusion",
                                    "TABLE_SCHEMA": "srv",
                                    "TABLE_NAME": "OperationalMarker",
                                    "TABLE_TYPE": "BASE TABLE"
                                },
                                {
                                    "TABLE_CATALOG": "fusion",
                                    "TABLE_SCHEMA": "srv",
                                    "TABLE_NAME": "OperationHistory",
                                    "TABLE_TYPE": "BASE TABLE"
                                },
                                {
                                    "TABLE_CATALOG": "fusion",
                                    "TABLE_SCHEMA": "srv",
                                    "TABLE_NAME": "OPSBudgetLine",
                                    "TABLE_TYPE": "BASE TABLE"
                                },
                                {
                                    "TABLE_CATALOG": "fusion",
                                    "TABLE_SCHEMA": "srv",
                                    "TABLE_NAME": "OrganizationalMarker",
                                    "TABLE_TYPE": "BASE TABLE"
                                },
                                {
                                    "TABLE_CATALOG": "fusion",
                                    "TABLE_SCHEMA": "srv",
                                    "TABLE_NAME": "OutcomeArea",
                                    "TABLE_TYPE": "BASE TABLE"
                                },
                                {
                                    "TABLE_CATALOG": "fusion",
                                    "TABLE_SCHEMA": "srv",
                                    "TABLE_NAME": "OutcomeAreaValidity",
                                    "TABLE_TYPE": "BASE TABLE"
                                },
                                {
                                    "TABLE_CATALOG": "fusion",
                                    "TABLE_SCHEMA": "srv",
                                    "TABLE_NAME": "OutcomeStatement",
                                    "TABLE_TYPE": "BASE TABLE"
                                },
                                {
                                    "TABLE_CATALOG": "fusion",
                                    "TABLE_SCHEMA": "srv",
                                    "TABLE_NAME": "OutcomeStatementValidity",
                                    "TABLE_TYPE": "BASE TABLE"
                                },
                                {
                                    "TABLE_CATALOG": "fusion",
                                    "TABLE_SCHEMA": "srv",
                                    "TABLE_NAME": "OutputStatement",
                                    "TABLE_TYPE": "BASE TABLE"
                                },
                                {
                                    "TABLE_CATALOG": "fusion",
                                    "TABLE_SCHEMA": "srv",
                                    "TABLE_NAME": "OutputStatementOperationalMarker",
                                    "TABLE_TYPE": "BASE TABLE"
                                },
                                {
                                    "TABLE_CATALOG": "fusion",
                                    "TABLE_SCHEMA": "srv",
                                    "TABLE_NAME": "OutputStatementOrganizationalMarker",
                                    "TABLE_TYPE": "BASE TABLE"
                                },
                                {
                                    "TABLE_CATALOG": "fusion",
                                    "TABLE_SCHEMA": "srv",
                                    "TABLE_NAME": "OutputStatementValidity",
                                    "TABLE_TYPE": "BASE TABLE"
                                },
                                {
                                    "TABLE_CATALOG": "fusion",
                                    "TABLE_SCHEMA": "srv",
                                    "TABLE_NAME": "Pillar",
                                    "TABLE_TYPE": "BASE TABLE"
                                },
                                {
                                    "TABLE_CATALOG": "fusion",
                                    "TABLE_SCHEMA": "srv",
                                    "TABLE_NAME": "Plan",
                                    "TABLE_TYPE": "BASE TABLE"
                                },
                                {
                                    "TABLE_CATALOG": "fusion",
                                    "TABLE_SCHEMA": "srv",
                                    "TABLE_NAME": "PlanCountry",
                                    "TABLE_TYPE": "BASE TABLE"
                                },
                                {
                                    "TABLE_CATALOG": "fusion",
                                    "TABLE_SCHEMA": "srv",
                                    "TABLE_NAME": "PlanValidity",
                                    "TABLE_TYPE": "BASE TABLE"
                                },
                                {
                                    "TABLE_CATALOG": "fusion",
                                    "TABLE_SCHEMA": "srv",
                                    "TABLE_NAME": "PopulationPlanningFigures",
                                    "TABLE_TYPE": "BASE TABLE"
                                },
                                {
                                    "TABLE_CATALOG": "fusion",
                                    "TABLE_SCHEMA": "srv",
                                    "TABLE_NAME": "PTGResultsLevel",
                                    "TABLE_TYPE": "BASE TABLE"
                                },
                                {
                                    "TABLE_CATALOG": "fusion",
                                    "TABLE_SCHEMA": "srv",
                                    "TABLE_NAME": "RegularPosition",
                                    "TABLE_TYPE": "BASE TABLE"
                                },
                                {
                                    "TABLE_CATALOG": "fusion",
                                    "TABLE_SCHEMA": "srv",
                                    "TABLE_NAME": "RegularPositionLine",
                                    "TABLE_TYPE": "BASE TABLE"
                                },
                                {
                                    "TABLE_CATALOG": "fusion",
                                    "TABLE_SCHEMA": "srv",
                                    "TABLE_NAME": "RegularPositionLineAmount",
                                    "TABLE_TYPE": "BASE TABLE"
                                },
                                {
                                    "TABLE_CATALOG": "fusion",
                                    "TABLE_SCHEMA": "srv",
                                    "TABLE_NAME": "Risk",
                                    "TABLE_TYPE": "BASE TABLE"
                                },
                                {
                                    "TABLE_CATALOG": "fusion",
                                    "TABLE_SCHEMA": "srv",
                                    "TABLE_NAME": "RiskActive",
                                    "TABLE_TYPE": "BASE TABLE"
                                },
                                {
                                    "TABLE_CATALOG": "fusion",
                                    "TABLE_SCHEMA": "srv",
                                    "TABLE_NAME": "RiskImpact",
                                    "TABLE_TYPE": "BASE TABLE"
                                },
                                {
                                    "TABLE_CATALOG": "fusion",
                                    "TABLE_SCHEMA": "srv",
                                    "TABLE_NAME": "RiskLikelihood",
                                    "TABLE_TYPE": "BASE TABLE"
                                },
                                {
                                    "TABLE_CATALOG": "fusion",
                                    "TABLE_SCHEMA": "srv",
                                    "TABLE_NAME": "RiskOutcomeStatement",
                                    "TABLE_TYPE": "BASE TABLE"
                                },
                                {
                                    "TABLE_CATALOG": "fusion",
                                    "TABLE_SCHEMA": "srv",
                                    "TABLE_NAME": "RiskRating",
                                    "TABLE_TYPE": "BASE TABLE"
                                },
                                {
                                    "TABLE_CATALOG": "fusion",
                                    "TABLE_SCHEMA": "srv",
                                    "TABLE_NAME": "RiskSubCategory",
                                    "TABLE_TYPE": "BASE TABLE"
                                },
                                {
                                    "TABLE_CATALOG": "fusion",
                                    "TABLE_SCHEMA": "srv",
                                    "TABLE_NAME": "RiskTreatment",
                                    "TABLE_TYPE": "BASE TABLE"
                                },
                                {
                                    "TABLE_CATALOG": "fusion",
                                    "TABLE_SCHEMA": "srv",
                                    "TABLE_NAME": "Scenario",
                                    "TABLE_TYPE": "BASE TABLE"
                                },
                                {
                                    "TABLE_CATALOG": "fusion",
                                    "TABLE_SCHEMA": "srv",
                                    "TABLE_NAME": "Situation",
                                    "TABLE_TYPE": "BASE TABLE"
                                },
                                {
                                    "TABLE_CATALOG": "fusion",
                                    "TABLE_SCHEMA": "srv",
                                    "TABLE_NAME": "SpecificPlanningFigures",
                                    "TABLE_TYPE": "BASE TABLE"
                                },
                                {
                                    "TABLE_CATALOG": "fusion",
                                    "TABLE_SCHEMA": "srv",
                                    "TABLE_NAME": "STAFFOPBudgetLine",
                                    "TABLE_TYPE": "BASE TABLE"
                                },
                                {
                                    "TABLE_CATALOG": "fusion",
                                    "TABLE_SCHEMA": "srv",
                                    "TABLE_NAME": "Strategy",
                                    "TABLE_TYPE": "BASE TABLE"
                                },
                                {
                                    "TABLE_CATALOG": "fusion",
                                    "TABLE_SCHEMA": "srv",
                                    "TABLE_NAME": "StrategyValidity",
                                    "TABLE_TYPE": "BASE TABLE"
                                },
                                {
                                    "TABLE_CATALOG": "fusion",
                                    "TABLE_SCHEMA": "srv",
                                    "TABLE_NAME": "SupervisoryOrganisation",
                                    "TABLE_TYPE": "BASE TABLE"
                                },
                                {
                                    "TABLE_CATALOG": "fusion",
                                    "TABLE_SCHEMA": "srv",
                                    "TABLE_NAME": "TemporaryPosition",
                                    "TABLE_TYPE": "BASE TABLE"
                                },
                                {
                                    "TABLE_CATALOG": "fusion",
                                    "TABLE_SCHEMA": "srv",
                                    "TABLE_NAME": "UDGPImpactIndicatorConfiguration",
                                    "TABLE_TYPE": "BASE TABLE"
                                },
                                {
                                    "TABLE_CATALOG": "fusion",
                                    "TABLE_SCHEMA": "srv",
                                    "TABLE_NAME": "UDGPImpactOutcomeIndicatorAGDBaseline",
                                    "TABLE_TYPE": "BASE TABLE"
                                },
                                {
                                    "TABLE_CATALOG": "fusion",
                                    "TABLE_SCHEMA": "srv",
                                    "TABLE_NAME": "UDGPImpactOutcomeIndicatorBaseline",
                                    "TABLE_TYPE": "BASE TABLE"
                                },
                                {
                                    "TABLE_CATALOG": "fusion",
                                    "TABLE_SCHEMA": "srv",
                                    "TABLE_NAME": "UDGPImpactOutcomeIndicatorBaselineDataLimit",
                                    "TABLE_TYPE": "BASE TABLE"
                                },
                                {
                                    "TABLE_CATALOG": "fusion",
                                    "TABLE_SCHEMA": "srv",
                                    "TABLE_NAME": "UDGPIndicatorActual",
                                    "TABLE_TYPE": "BASE TABLE"
                                },
                                {
                                    "TABLE_CATALOG": "fusion",
                                    "TABLE_SCHEMA": "srv",
                                    "TABLE_NAME": "UDGPIndicatorActualDataLimit",
                                    "TABLE_TYPE": "BASE TABLE"
                                },
                                {
                                    "TABLE_CATALOG": "fusion",
                                    "TABLE_SCHEMA": "srv",
                                    "TABLE_NAME": "UDGPIndicatorAGDActual",
                                    "TABLE_TYPE": "BASE TABLE"
                                },
                                {
                                    "TABLE_CATALOG": "fusion",
                                    "TABLE_SCHEMA": "srv",
                                    "TABLE_NAME": "UDGPIndicatorAGDPopulationType",
                                    "TABLE_TYPE": "BASE TABLE"
                                },
                                {
                                    "TABLE_CATALOG": "fusion",
                                    "TABLE_SCHEMA": "srv",
                                    "TABLE_NAME": "UDGPIndicatorConfiguration",
                                    "TABLE_TYPE": "BASE TABLE"
                                },
                                {
                                    "TABLE_CATALOG": "fusion",
                                    "TABLE_SCHEMA": "srv",
                                    "TABLE_NAME": "UDGPIndicatorPopulationType",
                                    "TABLE_TYPE": "BASE TABLE"
                                },
                                {
                                    "TABLE_CATALOG": "fusion",
                                    "TABLE_SCHEMA": "srv",
                                    "TABLE_NAME": "UDGPIndicatorPopulationTypeYear",
                                    "TABLE_TYPE": "BASE TABLE"
                                },
                                {
                                    "TABLE_CATALOG": "fusion",
                                    "TABLE_SCHEMA": "srv",
                                    "TABLE_NAME": "UDGPIndicatorScale",
                                    "TABLE_TYPE": "BASE TABLE"
                                },
                                {
                                    "TABLE_CATALOG": "fusion",
                                    "TABLE_SCHEMA": "srv",
                                    "TABLE_NAME": "UDGPOutcomeIndicatorConfiguration",
                                    "TABLE_TYPE": "BASE TABLE"
                                },
                                {
                                    "TABLE_CATALOG": "fusion",
                                    "TABLE_SCHEMA": "srv",
                                    "TABLE_NAME": "UDGPOutcomeIndicatorTarget",
                                    "TABLE_TYPE": "BASE TABLE"
                                },
                                {
                                    "TABLE_CATALOG": "fusion",
                                    "TABLE_SCHEMA": "srv",
                                    "TABLE_NAME": "UDGPOutputIndicatorConfiguration",
                                    "TABLE_TYPE": "BASE TABLE"
                                },
                                {
                                    "TABLE_CATALOG": "fusion",
                                    "TABLE_SCHEMA": "srv",
                                    "TABLE_NAME": "UDGPOutputIndicatorSubTarget",
                                    "TABLE_TYPE": "BASE TABLE"
                                },
                                {
                                    "TABLE_CATALOG": "fusion",
                                    "TABLE_SCHEMA": "srv",
                                    "TABLE_NAME": "UDGPOutputIndicatorTarget",
                                    "TABLE_TYPE": "BASE TABLE"
                                },
                                {
                                    "TABLE_CATALOG": "fusion",
                                    "TABLE_SCHEMA": "srv",
                                    "TABLE_NAME": "UNHCRDate",
                                    "TABLE_TYPE": "BASE TABLE"
                                }
                            ]
                        },
                        "text/html": "<table><tr><th>TABLE_CATALOG</th><th>TABLE_SCHEMA</th><th>TABLE_NAME</th><th>TABLE_TYPE</th></tr><tr><td>fusion</td><td>srv</td><td>_ExecutionLog</td><td>BASE TABLE</td></tr><tr><td>fusion</td><td>srv</td><td>ABODBudgetLine</td><td>BASE TABLE</td></tr><tr><td>fusion</td><td>srv</td><td>Account</td><td>BASE TABLE</td></tr><tr><td>fusion</td><td>srv</td><td>AccountBudgetCategory</td><td>BASE TABLE</td></tr><tr><td>fusion</td><td>srv</td><td>AgeGroup</td><td>BASE TABLE</td></tr><tr><td>fusion</td><td>srv</td><td>AnnualStatisticalReport</td><td>BASE TABLE</td></tr><tr><td>fusion</td><td>srv</td><td>ApportionedBudgetLine</td><td>BASE TABLE</td></tr><tr><td>fusion</td><td>srv</td><td>ApvdABODBudgetLine</td><td>BASE TABLE</td></tr><tr><td>fusion</td><td>srv</td><td>ApvdApportionedBudgetLine</td><td>BASE TABLE</td></tr><tr><td>fusion</td><td>srv</td><td>ApvdOPSBudgetLine</td><td>BASE TABLE</td></tr><tr><td>fusion</td><td>srv</td><td>ApvdSTAFFOPBudgetLine</td><td>BASE TABLE</td></tr><tr><td>fusion</td><td>srv</td><td>ARNarrativeConfiguration</td><td>BASE TABLE</td></tr><tr><td>fusion</td><td>srv</td><td>ARNarrativeStrategy</td><td>BASE TABLE</td></tr><tr><td>fusion</td><td>srv</td><td>ARNarrativeStrategyImpactArea</td><td>BASE TABLE</td></tr><tr><td>fusion</td><td>srv</td><td>ARNarrativeStrategyOutcomeArea</td><td>BASE TABLE</td></tr><tr><td>fusion</td><td>srv</td><td>BudgetCategory</td><td>BASE TABLE</td></tr><tr><td>fusion</td><td>srv</td><td>ContingencyPlan</td><td>BASE TABLE</td></tr><tr><td>fusion</td><td>srv</td><td>CoreImpactIndicatorImpactArea</td><td>BASE TABLE</td></tr><tr><td>fusion</td><td>srv</td><td>CoreIndicatorActual</td><td>BASE TABLE</td></tr><tr><td>fusion</td><td>srv</td><td>CoreIndicatorActualDataLimit</td><td>BASE TABLE</td></tr><tr><td>fusion</td><td>srv</td><td>CoreIndicatorAGDActual</td><td>BASE TABLE</td></tr><tr><td>fusion</td><td>srv</td><td>CoreIndicatorAGDBaseline</td><td>BASE TABLE</td></tr><tr><td>fusion</td><td>srv</td><td>CoreIndicatorAGDPopulationType</td><td>BASE TABLE</td></tr><tr><td>fusion</td><td>srv</td><td>CoreIndicatorBaseline</td><td>BASE TABLE</td></tr><tr><td>fusion</td><td>srv</td><td>CoreIndicatorBaselineDataLimit</td><td>BASE TABLE</td></tr><tr><td>fusion</td><td>srv</td><td>CoreIndicatorMetaData</td><td>BASE TABLE</td></tr><tr><td>fusion</td><td>srv</td><td>CoreIndicatorPopulationType</td><td>BASE TABLE</td></tr><tr><td>fusion</td><td>srv</td><td>CoreIndicatorPopulationTypeConfiguration</td><td>BASE TABLE</td></tr><tr><td>fusion</td><td>srv</td><td>CoreIndicatorPopulationTypeYear</td><td>BASE TABLE</td></tr><tr><td>fusion</td><td>srv</td><td>CoreIndicatorScale</td><td>BASE TABLE</td></tr><tr><td>fusion</td><td>srv</td><td>CoreOutcomeIndicatorOutcomeArea</td><td>BASE TABLE</td></tr><tr><td>fusion</td><td>srv</td><td>CoreOutcomeIndicatorTarget</td><td>BASE TABLE</td></tr><tr><td>fusion</td><td>srv</td><td>CostCenter</td><td>BASE TABLE</td></tr><tr><td>fusion</td><td>srv</td><td>Country</td><td>BASE TABLE</td></tr><tr><td>fusion</td><td>srv</td><td>CPActivationTrigger</td><td>BASE TABLE</td></tr><tr><td>fusion</td><td>srv</td><td>CPOtherPartnersBudget</td><td>BASE TABLE</td></tr><tr><td>fusion</td><td>srv</td><td>CPPopulationPlanningFigures</td><td>BASE TABLE</td></tr><tr><td>fusion</td><td>srv</td><td>CPPreparednessActions</td><td>BASE TABLE</td></tr><tr><td>fusion</td><td>srv</td><td>CPUNHCRBudget</td><td>BASE TABLE</td></tr><tr><td>fusion</td><td>srv</td><td>Currency</td><td>BASE TABLE</td></tr><tr><td>fusion</td><td>srv</td><td>EnumerationValue</td><td>BASE TABLE</td></tr><tr><td>fusion</td><td>srv</td><td>EPMJobCode</td><td>BASE TABLE</td></tr><tr><td>fusion</td><td>srv</td><td>EstimatedStaffCost</td><td>BASE TABLE</td></tr><tr><td>fusion</td><td>srv</td><td>ExpenditureOrganisation</td><td>BASE TABLE</td></tr><tr><td>fusion</td><td>srv</td><td>GPIndicatorMetaData</td><td>BASE TABLE</td></tr><tr><td>fusion</td><td>srv</td><td>GPIndicatorPopulationTypeConfiguration</td><td>BASE TABLE</td></tr><tr><td>fusion</td><td>srv</td><td>GPIndicatorScale</td><td>BASE TABLE</td></tr><tr><td>fusion</td><td>srv</td><td>Grade</td><td>BASE TABLE</td></tr><tr><td>fusion</td><td>srv</td><td>HRJobCode</td><td>BASE TABLE</td></tr><tr><td>fusion</td><td>srv</td><td>HRLocation</td><td>BASE TABLE</td></tr><tr><td>fusion</td><td>srv</td><td>ImpactArea</td><td>BASE TABLE</td></tr><tr><td>fusion</td><td>srv</td><td>ImpactAreaValidity</td><td>BASE TABLE</td></tr><tr><td>fusion</td><td>srv</td><td>ImpactStatement</td><td>BASE TABLE</td></tr><tr><td>fusion</td><td>srv</td><td>ImpactStatementValidity</td><td>BASE TABLE</td></tr><tr><td>fusion</td><td>srv</td><td>Implementer</td><td>BASE TABLE</td></tr><tr><td>fusion</td><td>srv</td><td>ImplementerSite</td><td>BASE TABLE</td></tr><tr><td>fusion</td><td>srv</td><td>MappingCostCenter</td><td>BASE TABLE</td></tr><tr><td>fusion</td><td>srv</td><td>MEActivityEstimatedCost</td><td>BASE TABLE</td></tr><tr><td>fusion</td><td>srv</td><td>MoVCoreIndicatorPopulationType</td><td>BASE TABLE</td></tr><tr><td>fusion</td><td>srv</td><td>MoVUDGPIndicatorConfiguration</td><td>BASE TABLE</td></tr><tr><td>fusion</td><td>srv</td><td>MoVUDGPIndicatorPopulationType</td><td>BASE TABLE</td></tr><tr><td>fusion</td><td>srv</td><td>NarrativeConfiguration</td><td>BASE TABLE</td></tr><tr><td>fusion</td><td>srv</td><td>NarrativeContingencyPlan</td><td>BASE TABLE</td></tr><tr><td>fusion</td><td>srv</td><td>NarrativeCountry</td><td>BASE TABLE</td></tr><tr><td>fusion</td><td>srv</td><td>NarrativeCountryImpactStatement</td><td>BASE TABLE</td></tr><tr><td>fusion</td><td>srv</td><td>NarrativeCountryOutcomeStatement</td><td>BASE TABLE</td></tr><tr><td>fusion</td><td>srv</td><td>NarrativeCountryOutputStatement</td><td>BASE TABLE</td></tr><tr><td>fusion</td><td>srv</td><td>NarrativeCountryStrategy</td><td>BASE TABLE</td></tr><tr><td>fusion</td><td>srv</td><td>NarrativeCountryStrategyCoreInd</td><td>BASE TABLE</td></tr><tr><td>fusion</td><td>srv</td><td>NarrativeImpactStatement</td><td>BASE TABLE</td></tr><tr><td>fusion</td><td>srv</td><td>NarrativeOutcomeStatement</td><td>BASE TABLE</td></tr><tr><td>fusion</td><td>srv</td><td>NarrativeOutputStatement</td><td>BASE TABLE</td></tr><tr><td>fusion</td><td>srv</td><td>NarrativeStrategy</td><td>BASE TABLE</td></tr><tr><td>fusion</td><td>srv</td><td>NarrativeStrategyPlan</td><td>BASE TABLE</td></tr><tr><td>fusion</td><td>srv</td><td>NarrativeStrategyPlanCoreInd</td><td>BASE TABLE</td></tr><tr><td>fusion</td><td>srv</td><td>NarrativeUDGPIndicatorConfiguration</td><td>BASE TABLE</td></tr><tr><td>fusion</td><td>srv</td><td>Office</td><td>BASE TABLE</td></tr><tr><td>fusion</td><td>srv</td><td>OfficeHistory</td><td>BASE TABLE</td></tr><tr><td>fusion</td><td>srv</td><td>Operation</td><td>BASE TABLE</td></tr><tr><td>fusion</td><td>srv</td><td>OperationalMarker</td><td>BASE TABLE</td></tr><tr><td>fusion</td><td>srv</td><td>OperationHistory</td><td>BASE TABLE</td></tr><tr><td>fusion</td><td>srv</td><td>OPSBudgetLine</td><td>BASE TABLE</td></tr><tr><td>fusion</td><td>srv</td><td>OrganizationalMarker</td><td>BASE TABLE</td></tr><tr><td>fusion</td><td>srv</td><td>OutcomeArea</td><td>BASE TABLE</td></tr><tr><td>fusion</td><td>srv</td><td>OutcomeAreaValidity</td><td>BASE TABLE</td></tr><tr><td>fusion</td><td>srv</td><td>OutcomeStatement</td><td>BASE TABLE</td></tr><tr><td>fusion</td><td>srv</td><td>OutcomeStatementValidity</td><td>BASE TABLE</td></tr><tr><td>fusion</td><td>srv</td><td>OutputStatement</td><td>BASE TABLE</td></tr><tr><td>fusion</td><td>srv</td><td>OutputStatementOperationalMarker</td><td>BASE TABLE</td></tr><tr><td>fusion</td><td>srv</td><td>OutputStatementOrganizationalMarker</td><td>BASE TABLE</td></tr><tr><td>fusion</td><td>srv</td><td>OutputStatementValidity</td><td>BASE TABLE</td></tr><tr><td>fusion</td><td>srv</td><td>Pillar</td><td>BASE TABLE</td></tr><tr><td>fusion</td><td>srv</td><td>Plan</td><td>BASE TABLE</td></tr><tr><td>fusion</td><td>srv</td><td>PlanCountry</td><td>BASE TABLE</td></tr><tr><td>fusion</td><td>srv</td><td>PlanValidity</td><td>BASE TABLE</td></tr><tr><td>fusion</td><td>srv</td><td>PopulationPlanningFigures</td><td>BASE TABLE</td></tr><tr><td>fusion</td><td>srv</td><td>PTGResultsLevel</td><td>BASE TABLE</td></tr><tr><td>fusion</td><td>srv</td><td>RegularPosition</td><td>BASE TABLE</td></tr><tr><td>fusion</td><td>srv</td><td>RegularPositionLine</td><td>BASE TABLE</td></tr><tr><td>fusion</td><td>srv</td><td>RegularPositionLineAmount</td><td>BASE TABLE</td></tr><tr><td>fusion</td><td>srv</td><td>Risk</td><td>BASE TABLE</td></tr><tr><td>fusion</td><td>srv</td><td>RiskActive</td><td>BASE TABLE</td></tr><tr><td>fusion</td><td>srv</td><td>RiskImpact</td><td>BASE TABLE</td></tr><tr><td>fusion</td><td>srv</td><td>RiskLikelihood</td><td>BASE TABLE</td></tr><tr><td>fusion</td><td>srv</td><td>RiskOutcomeStatement</td><td>BASE TABLE</td></tr><tr><td>fusion</td><td>srv</td><td>RiskRating</td><td>BASE TABLE</td></tr><tr><td>fusion</td><td>srv</td><td>RiskSubCategory</td><td>BASE TABLE</td></tr><tr><td>fusion</td><td>srv</td><td>RiskTreatment</td><td>BASE TABLE</td></tr><tr><td>fusion</td><td>srv</td><td>Scenario</td><td>BASE TABLE</td></tr><tr><td>fusion</td><td>srv</td><td>Situation</td><td>BASE TABLE</td></tr><tr><td>fusion</td><td>srv</td><td>SpecificPlanningFigures</td><td>BASE TABLE</td></tr><tr><td>fusion</td><td>srv</td><td>STAFFOPBudgetLine</td><td>BASE TABLE</td></tr><tr><td>fusion</td><td>srv</td><td>Strategy</td><td>BASE TABLE</td></tr><tr><td>fusion</td><td>srv</td><td>StrategyValidity</td><td>BASE TABLE</td></tr><tr><td>fusion</td><td>srv</td><td>SupervisoryOrganisation</td><td>BASE TABLE</td></tr><tr><td>fusion</td><td>srv</td><td>TemporaryPosition</td><td>BASE TABLE</td></tr><tr><td>fusion</td><td>srv</td><td>UDGPImpactIndicatorConfiguration</td><td>BASE TABLE</td></tr><tr><td>fusion</td><td>srv</td><td>UDGPImpactOutcomeIndicatorAGDBaseline</td><td>BASE TABLE</td></tr><tr><td>fusion</td><td>srv</td><td>UDGPImpactOutcomeIndicatorBaseline</td><td>BASE TABLE</td></tr><tr><td>fusion</td><td>srv</td><td>UDGPImpactOutcomeIndicatorBaselineDataLimit</td><td>BASE TABLE</td></tr><tr><td>fusion</td><td>srv</td><td>UDGPIndicatorActual</td><td>BASE TABLE</td></tr><tr><td>fusion</td><td>srv</td><td>UDGPIndicatorActualDataLimit</td><td>BASE TABLE</td></tr><tr><td>fusion</td><td>srv</td><td>UDGPIndicatorAGDActual</td><td>BASE TABLE</td></tr><tr><td>fusion</td><td>srv</td><td>UDGPIndicatorAGDPopulationType</td><td>BASE TABLE</td></tr><tr><td>fusion</td><td>srv</td><td>UDGPIndicatorConfiguration</td><td>BASE TABLE</td></tr><tr><td>fusion</td><td>srv</td><td>UDGPIndicatorPopulationType</td><td>BASE TABLE</td></tr><tr><td>fusion</td><td>srv</td><td>UDGPIndicatorPopulationTypeYear</td><td>BASE TABLE</td></tr><tr><td>fusion</td><td>srv</td><td>UDGPIndicatorScale</td><td>BASE TABLE</td></tr><tr><td>fusion</td><td>srv</td><td>UDGPOutcomeIndicatorConfiguration</td><td>BASE TABLE</td></tr><tr><td>fusion</td><td>srv</td><td>UDGPOutcomeIndicatorTarget</td><td>BASE TABLE</td></tr><tr><td>fusion</td><td>srv</td><td>UDGPOutputIndicatorConfiguration</td><td>BASE TABLE</td></tr><tr><td>fusion</td><td>srv</td><td>UDGPOutputIndicatorSubTarget</td><td>BASE TABLE</td></tr><tr><td>fusion</td><td>srv</td><td>UDGPOutputIndicatorTarget</td><td>BASE TABLE</td></tr><tr><td>fusion</td><td>srv</td><td>UNHCRDate</td><td>BASE TABLE</td></tr></table>"
                    },
                    "metadata": {}
                }
            ],
            "execution_count": 49
        },
        {
            "cell_type": "code",
            "source": [
                "SELECT *\r\n",
                "FROM INFORMATION_SCHEMA.COLUMNS\r\n",
                "WHERE TABLE_SCHEMA = 'srv' AND TABLE_NAME = 'OutputStatementValidity'\r\n",
                "ORDER BY ORDINAL_POSITION;"
            ],
            "metadata": {
                "azdata_cell_guid": "93ba6168-aa74-4d92-b182-60fb43ea79ea",
                "language": "sql"
            },
            "outputs": [
                {
                    "output_type": "display_data",
                    "data": {
                        "text/html": "(13 rows affected)"
                    },
                    "metadata": {}
                },
                {
                    "output_type": "display_data",
                    "data": {
                        "text/html": "Total execution time: 00:00:00.081"
                    },
                    "metadata": {}
                },
                {
                    "output_type": "execute_result",
                    "metadata": {},
                    "execution_count": 5,
                    "data": {
                        "application/vnd.dataresource+json": {
                            "schema": {
                                "fields": [
                                    {
                                        "name": "TABLE_CATALOG"
                                    },
                                    {
                                        "name": "TABLE_SCHEMA"
                                    },
                                    {
                                        "name": "TABLE_NAME"
                                    },
                                    {
                                        "name": "COLUMN_NAME"
                                    },
                                    {
                                        "name": "ORDINAL_POSITION"
                                    },
                                    {
                                        "name": "COLUMN_DEFAULT"
                                    },
                                    {
                                        "name": "IS_NULLABLE"
                                    },
                                    {
                                        "name": "DATA_TYPE"
                                    },
                                    {
                                        "name": "CHARACTER_MAXIMUM_LENGTH"
                                    },
                                    {
                                        "name": "CHARACTER_OCTET_LENGTH"
                                    },
                                    {
                                        "name": "NUMERIC_PRECISION"
                                    },
                                    {
                                        "name": "NUMERIC_PRECISION_RADIX"
                                    },
                                    {
                                        "name": "NUMERIC_SCALE"
                                    },
                                    {
                                        "name": "DATETIME_PRECISION"
                                    },
                                    {
                                        "name": "CHARACTER_SET_CATALOG"
                                    },
                                    {
                                        "name": "CHARACTER_SET_SCHEMA"
                                    },
                                    {
                                        "name": "CHARACTER_SET_NAME"
                                    },
                                    {
                                        "name": "COLLATION_CATALOG"
                                    },
                                    {
                                        "name": "COLLATION_SCHEMA"
                                    },
                                    {
                                        "name": "COLLATION_NAME"
                                    },
                                    {
                                        "name": "DOMAIN_CATALOG"
                                    },
                                    {
                                        "name": "DOMAIN_SCHEMA"
                                    },
                                    {
                                        "name": "DOMAIN_NAME"
                                    }
                                ]
                            },
                            "data": [
                                {
                                    "TABLE_CATALOG": "fusion",
                                    "TABLE_SCHEMA": "srv",
                                    "TABLE_NAME": "OutputStatementValidity",
                                    "COLUMN_NAME": "OutputStatementValidityGuid",
                                    "ORDINAL_POSITION": "1",
                                    "COLUMN_DEFAULT": "NULL",
                                    "IS_NULLABLE": "NO",
                                    "DATA_TYPE": "uniqueidentifier",
                                    "CHARACTER_MAXIMUM_LENGTH": "NULL",
                                    "CHARACTER_OCTET_LENGTH": "NULL",
                                    "NUMERIC_PRECISION": "NULL",
                                    "NUMERIC_PRECISION_RADIX": "NULL",
                                    "NUMERIC_SCALE": "NULL",
                                    "DATETIME_PRECISION": "NULL",
                                    "CHARACTER_SET_CATALOG": "NULL",
                                    "CHARACTER_SET_SCHEMA": "NULL",
                                    "CHARACTER_SET_NAME": "NULL",
                                    "COLLATION_CATALOG": "NULL",
                                    "COLLATION_SCHEMA": "NULL",
                                    "COLLATION_NAME": "NULL",
                                    "DOMAIN_CATALOG": "NULL",
                                    "DOMAIN_SCHEMA": "NULL",
                                    "DOMAIN_NAME": "NULL"
                                },
                                {
                                    "TABLE_CATALOG": "fusion",
                                    "TABLE_SCHEMA": "srv",
                                    "TABLE_NAME": "OutputStatementValidity",
                                    "COLUMN_NAME": "OutputStatement",
                                    "ORDINAL_POSITION": "2",
                                    "COLUMN_DEFAULT": "NULL",
                                    "IS_NULLABLE": "NO",
                                    "DATA_TYPE": "varchar",
                                    "CHARACTER_MAXIMUM_LENGTH": "3",
                                    "CHARACTER_OCTET_LENGTH": "3",
                                    "NUMERIC_PRECISION": "NULL",
                                    "NUMERIC_PRECISION_RADIX": "NULL",
                                    "NUMERIC_SCALE": "NULL",
                                    "DATETIME_PRECISION": "NULL",
                                    "CHARACTER_SET_CATALOG": "NULL",
                                    "CHARACTER_SET_SCHEMA": "NULL",
                                    "CHARACTER_SET_NAME": "iso_1",
                                    "COLLATION_CATALOG": "NULL",
                                    "COLLATION_SCHEMA": "NULL",
                                    "COLLATION_NAME": "SQL_Latin1_General_CP1_CI_AS",
                                    "DOMAIN_CATALOG": "NULL",
                                    "DOMAIN_SCHEMA": "NULL",
                                    "DOMAIN_NAME": "NULL"
                                },
                                {
                                    "TABLE_CATALOG": "fusion",
                                    "TABLE_SCHEMA": "srv",
                                    "TABLE_NAME": "OutputStatementValidity",
                                    "COLUMN_NAME": "ABCCode",
                                    "ORDINAL_POSITION": "3",
                                    "COLUMN_DEFAULT": "NULL",
                                    "IS_NULLABLE": "NO",
                                    "DATA_TYPE": "nvarchar",
                                    "CHARACTER_MAXIMUM_LENGTH": "80",
                                    "CHARACTER_OCTET_LENGTH": "160",
                                    "NUMERIC_PRECISION": "NULL",
                                    "NUMERIC_PRECISION_RADIX": "NULL",
                                    "NUMERIC_SCALE": "NULL",
                                    "DATETIME_PRECISION": "NULL",
                                    "CHARACTER_SET_CATALOG": "NULL",
                                    "CHARACTER_SET_SCHEMA": "NULL",
                                    "CHARACTER_SET_NAME": "UNICODE",
                                    "COLLATION_CATALOG": "NULL",
                                    "COLLATION_SCHEMA": "NULL",
                                    "COLLATION_NAME": "SQL_Latin1_General_CP1_CI_AS",
                                    "DOMAIN_CATALOG": "NULL",
                                    "DOMAIN_SCHEMA": "NULL",
                                    "DOMAIN_NAME": "NULL"
                                },
                                {
                                    "TABLE_CATALOG": "fusion",
                                    "TABLE_SCHEMA": "srv",
                                    "TABLE_NAME": "OutputStatementValidity",
                                    "COLUMN_NAME": "StrategyCode",
                                    "ORDINAL_POSITION": "4",
                                    "COLUMN_DEFAULT": "NULL",
                                    "IS_NULLABLE": "NO",
                                    "DATA_TYPE": "varchar",
                                    "CHARACTER_MAXIMUM_LENGTH": "1",
                                    "CHARACTER_OCTET_LENGTH": "1",
                                    "NUMERIC_PRECISION": "NULL",
                                    "NUMERIC_PRECISION_RADIX": "NULL",
                                    "NUMERIC_SCALE": "NULL",
                                    "DATETIME_PRECISION": "NULL",
                                    "CHARACTER_SET_CATALOG": "NULL",
                                    "CHARACTER_SET_SCHEMA": "NULL",
                                    "CHARACTER_SET_NAME": "iso_1",
                                    "COLLATION_CATALOG": "NULL",
                                    "COLLATION_SCHEMA": "NULL",
                                    "COLLATION_NAME": "SQL_Latin1_General_CP1_CI_AS",
                                    "DOMAIN_CATALOG": "NULL",
                                    "DOMAIN_SCHEMA": "NULL",
                                    "DOMAIN_NAME": "NULL"
                                },
                                {
                                    "TABLE_CATALOG": "fusion",
                                    "TABLE_SCHEMA": "srv",
                                    "TABLE_NAME": "OutputStatementValidity",
                                    "COLUMN_NAME": "BudgetYear",
                                    "ORDINAL_POSITION": "5",
                                    "COLUMN_DEFAULT": "NULL",
                                    "IS_NULLABLE": "NO",
                                    "DATA_TYPE": "int",
                                    "CHARACTER_MAXIMUM_LENGTH": "NULL",
                                    "CHARACTER_OCTET_LENGTH": "NULL",
                                    "NUMERIC_PRECISION": "10",
                                    "NUMERIC_PRECISION_RADIX": "10",
                                    "NUMERIC_SCALE": "0",
                                    "DATETIME_PRECISION": "NULL",
                                    "CHARACTER_SET_CATALOG": "NULL",
                                    "CHARACTER_SET_SCHEMA": "NULL",
                                    "CHARACTER_SET_NAME": "NULL",
                                    "COLLATION_CATALOG": "NULL",
                                    "COLLATION_SCHEMA": "NULL",
                                    "COLLATION_NAME": "NULL",
                                    "DOMAIN_CATALOG": "NULL",
                                    "DOMAIN_SCHEMA": "NULL",
                                    "DOMAIN_NAME": "NULL"
                                },
                                {
                                    "TABLE_CATALOG": "fusion",
                                    "TABLE_SCHEMA": "srv",
                                    "TABLE_NAME": "OutputStatementValidity",
                                    "COLUMN_NAME": "OutputStatementGuid",
                                    "ORDINAL_POSITION": "6",
                                    "COLUMN_DEFAULT": "NULL",
                                    "IS_NULLABLE": "NO",
                                    "DATA_TYPE": "uniqueidentifier",
                                    "CHARACTER_MAXIMUM_LENGTH": "NULL",
                                    "CHARACTER_OCTET_LENGTH": "NULL",
                                    "NUMERIC_PRECISION": "NULL",
                                    "NUMERIC_PRECISION_RADIX": "NULL",
                                    "NUMERIC_SCALE": "NULL",
                                    "DATETIME_PRECISION": "NULL",
                                    "CHARACTER_SET_CATALOG": "NULL",
                                    "CHARACTER_SET_SCHEMA": "NULL",
                                    "CHARACTER_SET_NAME": "NULL",
                                    "COLLATION_CATALOG": "NULL",
                                    "COLLATION_SCHEMA": "NULL",
                                    "COLLATION_NAME": "NULL",
                                    "DOMAIN_CATALOG": "NULL",
                                    "DOMAIN_SCHEMA": "NULL",
                                    "DOMAIN_NAME": "NULL"
                                },
                                {
                                    "TABLE_CATALOG": "fusion",
                                    "TABLE_SCHEMA": "srv",
                                    "TABLE_NAME": "OutputStatementValidity",
                                    "COLUMN_NAME": "IsValid",
                                    "ORDINAL_POSITION": "7",
                                    "COLUMN_DEFAULT": "NULL",
                                    "IS_NULLABLE": "YES",
                                    "DATA_TYPE": "bit",
                                    "CHARACTER_MAXIMUM_LENGTH": "NULL",
                                    "CHARACTER_OCTET_LENGTH": "NULL",
                                    "NUMERIC_PRECISION": "NULL",
                                    "NUMERIC_PRECISION_RADIX": "NULL",
                                    "NUMERIC_SCALE": "NULL",
                                    "DATETIME_PRECISION": "NULL",
                                    "CHARACTER_SET_CATALOG": "NULL",
                                    "CHARACTER_SET_SCHEMA": "NULL",
                                    "CHARACTER_SET_NAME": "NULL",
                                    "COLLATION_CATALOG": "NULL",
                                    "COLLATION_SCHEMA": "NULL",
                                    "COLLATION_NAME": "NULL",
                                    "DOMAIN_CATALOG": "NULL",
                                    "DOMAIN_SCHEMA": "NULL",
                                    "DOMAIN_NAME": "NULL"
                                },
                                {
                                    "TABLE_CATALOG": "fusion",
                                    "TABLE_SCHEMA": "srv",
                                    "TABLE_NAME": "OutputStatementValidity",
                                    "COLUMN_NAME": "IsExcluded",
                                    "ORDINAL_POSITION": "8",
                                    "COLUMN_DEFAULT": "NULL",
                                    "IS_NULLABLE": "NO",
                                    "DATA_TYPE": "bit",
                                    "CHARACTER_MAXIMUM_LENGTH": "NULL",
                                    "CHARACTER_OCTET_LENGTH": "NULL",
                                    "NUMERIC_PRECISION": "NULL",
                                    "NUMERIC_PRECISION_RADIX": "NULL",
                                    "NUMERIC_SCALE": "NULL",
                                    "DATETIME_PRECISION": "NULL",
                                    "CHARACTER_SET_CATALOG": "NULL",
                                    "CHARACTER_SET_SCHEMA": "NULL",
                                    "CHARACTER_SET_NAME": "NULL",
                                    "COLLATION_CATALOG": "NULL",
                                    "COLLATION_SCHEMA": "NULL",
                                    "COLLATION_NAME": "NULL",
                                    "DOMAIN_CATALOG": "NULL",
                                    "DOMAIN_SCHEMA": "NULL",
                                    "DOMAIN_NAME": "NULL"
                                },
                                {
                                    "TABLE_CATALOG": "fusion",
                                    "TABLE_SCHEMA": "srv",
                                    "TABLE_NAME": "OutputStatementValidity",
                                    "COLUMN_NAME": "STGCreationDate",
                                    "ORDINAL_POSITION": "9",
                                    "COLUMN_DEFAULT": "NULL",
                                    "IS_NULLABLE": "NO",
                                    "DATA_TYPE": "datetime",
                                    "CHARACTER_MAXIMUM_LENGTH": "NULL",
                                    "CHARACTER_OCTET_LENGTH": "NULL",
                                    "NUMERIC_PRECISION": "NULL",
                                    "NUMERIC_PRECISION_RADIX": "NULL",
                                    "NUMERIC_SCALE": "NULL",
                                    "DATETIME_PRECISION": "3",
                                    "CHARACTER_SET_CATALOG": "NULL",
                                    "CHARACTER_SET_SCHEMA": "NULL",
                                    "CHARACTER_SET_NAME": "NULL",
                                    "COLLATION_CATALOG": "NULL",
                                    "COLLATION_SCHEMA": "NULL",
                                    "COLLATION_NAME": "NULL",
                                    "DOMAIN_CATALOG": "NULL",
                                    "DOMAIN_SCHEMA": "NULL",
                                    "DOMAIN_NAME": "NULL"
                                },
                                {
                                    "TABLE_CATALOG": "fusion",
                                    "TABLE_SCHEMA": "srv",
                                    "TABLE_NAME": "OutputStatementValidity",
                                    "COLUMN_NAME": "STGLastUpdateDate",
                                    "ORDINAL_POSITION": "10",
                                    "COLUMN_DEFAULT": "NULL",
                                    "IS_NULLABLE": "NO",
                                    "DATA_TYPE": "datetime",
                                    "CHARACTER_MAXIMUM_LENGTH": "NULL",
                                    "CHARACTER_OCTET_LENGTH": "NULL",
                                    "NUMERIC_PRECISION": "NULL",
                                    "NUMERIC_PRECISION_RADIX": "NULL",
                                    "NUMERIC_SCALE": "NULL",
                                    "DATETIME_PRECISION": "3",
                                    "CHARACTER_SET_CATALOG": "NULL",
                                    "CHARACTER_SET_SCHEMA": "NULL",
                                    "CHARACTER_SET_NAME": "NULL",
                                    "COLLATION_CATALOG": "NULL",
                                    "COLLATION_SCHEMA": "NULL",
                                    "COLLATION_NAME": "NULL",
                                    "DOMAIN_CATALOG": "NULL",
                                    "DOMAIN_SCHEMA": "NULL",
                                    "DOMAIN_NAME": "NULL"
                                },
                                {
                                    "TABLE_CATALOG": "fusion",
                                    "TABLE_SCHEMA": "srv",
                                    "TABLE_NAME": "OutputStatementValidity",
                                    "COLUMN_NAME": "STGInsertExecutionLogId",
                                    "ORDINAL_POSITION": "11",
                                    "COLUMN_DEFAULT": "NULL",
                                    "IS_NULLABLE": "NO",
                                    "DATA_TYPE": "bigint",
                                    "CHARACTER_MAXIMUM_LENGTH": "NULL",
                                    "CHARACTER_OCTET_LENGTH": "NULL",
                                    "NUMERIC_PRECISION": "19",
                                    "NUMERIC_PRECISION_RADIX": "10",
                                    "NUMERIC_SCALE": "0",
                                    "DATETIME_PRECISION": "NULL",
                                    "CHARACTER_SET_CATALOG": "NULL",
                                    "CHARACTER_SET_SCHEMA": "NULL",
                                    "CHARACTER_SET_NAME": "NULL",
                                    "COLLATION_CATALOG": "NULL",
                                    "COLLATION_SCHEMA": "NULL",
                                    "COLLATION_NAME": "NULL",
                                    "DOMAIN_CATALOG": "NULL",
                                    "DOMAIN_SCHEMA": "NULL",
                                    "DOMAIN_NAME": "NULL"
                                },
                                {
                                    "TABLE_CATALOG": "fusion",
                                    "TABLE_SCHEMA": "srv",
                                    "TABLE_NAME": "OutputStatementValidity",
                                    "COLUMN_NAME": "STGLastUpdateExecutionLogId",
                                    "ORDINAL_POSITION": "12",
                                    "COLUMN_DEFAULT": "NULL",
                                    "IS_NULLABLE": "NO",
                                    "DATA_TYPE": "bigint",
                                    "CHARACTER_MAXIMUM_LENGTH": "NULL",
                                    "CHARACTER_OCTET_LENGTH": "NULL",
                                    "NUMERIC_PRECISION": "19",
                                    "NUMERIC_PRECISION_RADIX": "10",
                                    "NUMERIC_SCALE": "0",
                                    "DATETIME_PRECISION": "NULL",
                                    "CHARACTER_SET_CATALOG": "NULL",
                                    "CHARACTER_SET_SCHEMA": "NULL",
                                    "CHARACTER_SET_NAME": "NULL",
                                    "COLLATION_CATALOG": "NULL",
                                    "COLLATION_SCHEMA": "NULL",
                                    "COLLATION_NAME": "NULL",
                                    "DOMAIN_CATALOG": "NULL",
                                    "DOMAIN_SCHEMA": "NULL",
                                    "DOMAIN_NAME": "NULL"
                                },
                                {
                                    "TABLE_CATALOG": "fusion",
                                    "TABLE_SCHEMA": "srv",
                                    "TABLE_NAME": "OutputStatementValidity",
                                    "COLUMN_NAME": "IsDELETED",
                                    "ORDINAL_POSITION": "13",
                                    "COLUMN_DEFAULT": "NULL",
                                    "IS_NULLABLE": "NO",
                                    "DATA_TYPE": "bit",
                                    "CHARACTER_MAXIMUM_LENGTH": "NULL",
                                    "CHARACTER_OCTET_LENGTH": "NULL",
                                    "NUMERIC_PRECISION": "NULL",
                                    "NUMERIC_PRECISION_RADIX": "NULL",
                                    "NUMERIC_SCALE": "NULL",
                                    "DATETIME_PRECISION": "NULL",
                                    "CHARACTER_SET_CATALOG": "NULL",
                                    "CHARACTER_SET_SCHEMA": "NULL",
                                    "CHARACTER_SET_NAME": "NULL",
                                    "COLLATION_CATALOG": "NULL",
                                    "COLLATION_SCHEMA": "NULL",
                                    "COLLATION_NAME": "NULL",
                                    "DOMAIN_CATALOG": "NULL",
                                    "DOMAIN_SCHEMA": "NULL",
                                    "DOMAIN_NAME": "NULL"
                                }
                            ]
                        },
                        "text/html": [
                            "<table>",
                            "<tr><th>TABLE_CATALOG</th><th>TABLE_SCHEMA</th><th>TABLE_NAME</th><th>COLUMN_NAME</th><th>ORDINAL_POSITION</th><th>COLUMN_DEFAULT</th><th>IS_NULLABLE</th><th>DATA_TYPE</th><th>CHARACTER_MAXIMUM_LENGTH</th><th>CHARACTER_OCTET_LENGTH</th><th>NUMERIC_PRECISION</th><th>NUMERIC_PRECISION_RADIX</th><th>NUMERIC_SCALE</th><th>DATETIME_PRECISION</th><th>CHARACTER_SET_CATALOG</th><th>CHARACTER_SET_SCHEMA</th><th>CHARACTER_SET_NAME</th><th>COLLATION_CATALOG</th><th>COLLATION_SCHEMA</th><th>COLLATION_NAME</th><th>DOMAIN_CATALOG</th><th>DOMAIN_SCHEMA</th><th>DOMAIN_NAME</th></tr>",
                            "<tr><td>fusion</td><td>srv</td><td>OutputStatementValidity</td><td>OutputStatementValidityGuid</td><td>1</td><td>NULL</td><td>NO</td><td>uniqueidentifier</td><td>NULL</td><td>NULL</td><td>NULL</td><td>NULL</td><td>NULL</td><td>NULL</td><td>NULL</td><td>NULL</td><td>NULL</td><td>NULL</td><td>NULL</td><td>NULL</td><td>NULL</td><td>NULL</td><td>NULL</td></tr>",
                            "<tr><td>fusion</td><td>srv</td><td>OutputStatementValidity</td><td>OutputStatement</td><td>2</td><td>NULL</td><td>NO</td><td>varchar</td><td>3</td><td>3</td><td>NULL</td><td>NULL</td><td>NULL</td><td>NULL</td><td>NULL</td><td>NULL</td><td>iso_1</td><td>NULL</td><td>NULL</td><td>SQL_Latin1_General_CP1_CI_AS</td><td>NULL</td><td>NULL</td><td>NULL</td></tr>",
                            "<tr><td>fusion</td><td>srv</td><td>OutputStatementValidity</td><td>ABCCode</td><td>3</td><td>NULL</td><td>NO</td><td>nvarchar</td><td>80</td><td>160</td><td>NULL</td><td>NULL</td><td>NULL</td><td>NULL</td><td>NULL</td><td>NULL</td><td>UNICODE</td><td>NULL</td><td>NULL</td><td>SQL_Latin1_General_CP1_CI_AS</td><td>NULL</td><td>NULL</td><td>NULL</td></tr>",
                            "<tr><td>fusion</td><td>srv</td><td>OutputStatementValidity</td><td>StrategyCode</td><td>4</td><td>NULL</td><td>NO</td><td>varchar</td><td>1</td><td>1</td><td>NULL</td><td>NULL</td><td>NULL</td><td>NULL</td><td>NULL</td><td>NULL</td><td>iso_1</td><td>NULL</td><td>NULL</td><td>SQL_Latin1_General_CP1_CI_AS</td><td>NULL</td><td>NULL</td><td>NULL</td></tr>",
                            "<tr><td>fusion</td><td>srv</td><td>OutputStatementValidity</td><td>BudgetYear</td><td>5</td><td>NULL</td><td>NO</td><td>int</td><td>NULL</td><td>NULL</td><td>10</td><td>10</td><td>0</td><td>NULL</td><td>NULL</td><td>NULL</td><td>NULL</td><td>NULL</td><td>NULL</td><td>NULL</td><td>NULL</td><td>NULL</td><td>NULL</td></tr>",
                            "<tr><td>fusion</td><td>srv</td><td>OutputStatementValidity</td><td>OutputStatementGuid</td><td>6</td><td>NULL</td><td>NO</td><td>uniqueidentifier</td><td>NULL</td><td>NULL</td><td>NULL</td><td>NULL</td><td>NULL</td><td>NULL</td><td>NULL</td><td>NULL</td><td>NULL</td><td>NULL</td><td>NULL</td><td>NULL</td><td>NULL</td><td>NULL</td><td>NULL</td></tr>",
                            "<tr><td>fusion</td><td>srv</td><td>OutputStatementValidity</td><td>IsValid</td><td>7</td><td>NULL</td><td>YES</td><td>bit</td><td>NULL</td><td>NULL</td><td>NULL</td><td>NULL</td><td>NULL</td><td>NULL</td><td>NULL</td><td>NULL</td><td>NULL</td><td>NULL</td><td>NULL</td><td>NULL</td><td>NULL</td><td>NULL</td><td>NULL</td></tr>",
                            "<tr><td>fusion</td><td>srv</td><td>OutputStatementValidity</td><td>IsExcluded</td><td>8</td><td>NULL</td><td>NO</td><td>bit</td><td>NULL</td><td>NULL</td><td>NULL</td><td>NULL</td><td>NULL</td><td>NULL</td><td>NULL</td><td>NULL</td><td>NULL</td><td>NULL</td><td>NULL</td><td>NULL</td><td>NULL</td><td>NULL</td><td>NULL</td></tr>",
                            "<tr><td>fusion</td><td>srv</td><td>OutputStatementValidity</td><td>STGCreationDate</td><td>9</td><td>NULL</td><td>NO</td><td>datetime</td><td>NULL</td><td>NULL</td><td>NULL</td><td>NULL</td><td>NULL</td><td>3</td><td>NULL</td><td>NULL</td><td>NULL</td><td>NULL</td><td>NULL</td><td>NULL</td><td>NULL</td><td>NULL</td><td>NULL</td></tr>",
                            "<tr><td>fusion</td><td>srv</td><td>OutputStatementValidity</td><td>STGLastUpdateDate</td><td>10</td><td>NULL</td><td>NO</td><td>datetime</td><td>NULL</td><td>NULL</td><td>NULL</td><td>NULL</td><td>NULL</td><td>3</td><td>NULL</td><td>NULL</td><td>NULL</td><td>NULL</td><td>NULL</td><td>NULL</td><td>NULL</td><td>NULL</td><td>NULL</td></tr>",
                            "<tr><td>fusion</td><td>srv</td><td>OutputStatementValidity</td><td>STGInsertExecutionLogId</td><td>11</td><td>NULL</td><td>NO</td><td>bigint</td><td>NULL</td><td>NULL</td><td>19</td><td>10</td><td>0</td><td>NULL</td><td>NULL</td><td>NULL</td><td>NULL</td><td>NULL</td><td>NULL</td><td>NULL</td><td>NULL</td><td>NULL</td><td>NULL</td></tr>",
                            "<tr><td>fusion</td><td>srv</td><td>OutputStatementValidity</td><td>STGLastUpdateExecutionLogId</td><td>12</td><td>NULL</td><td>NO</td><td>bigint</td><td>NULL</td><td>NULL</td><td>19</td><td>10</td><td>0</td><td>NULL</td><td>NULL</td><td>NULL</td><td>NULL</td><td>NULL</td><td>NULL</td><td>NULL</td><td>NULL</td><td>NULL</td><td>NULL</td></tr>",
                            "<tr><td>fusion</td><td>srv</td><td>OutputStatementValidity</td><td>IsDELETED</td><td>13</td><td>NULL</td><td>NO</td><td>bit</td><td>NULL</td><td>NULL</td><td>NULL</td><td>NULL</td><td>NULL</td><td>NULL</td><td>NULL</td><td>NULL</td><td>NULL</td><td>NULL</td><td>NULL</td><td>NULL</td><td>NULL</td><td>NULL</td><td>NULL</td></tr>",
                            "</table>"
                        ]
                    }
                }
            ],
            "execution_count": 5
        },
        {
            "cell_type": "code",
            "source": [
                "SELECT *\r\n",
                "FROM srv.OutputStatement\r\n",
                "WHERE OutputStatementGuid = 'e992973b-2ab7-ec11-997e-0050f244c037'"
            ],
            "metadata": {
                "azdata_cell_guid": "27e1be1e-c41f-4e2a-9c7f-a5513dcc88ef",
                "language": "sql"
            },
            "outputs": [
                {
                    "output_type": "display_data",
                    "data": {
                        "text/html": "(1 row affected)"
                    },
                    "metadata": {}
                },
                {
                    "output_type": "display_data",
                    "data": {
                        "text/html": "Total execution time: 00:00:00.230"
                    },
                    "metadata": {}
                },
                {
                    "output_type": "execute_result",
                    "metadata": {},
                    "execution_count": 57,
                    "data": {
                        "application/vnd.dataresource+json": {
                            "schema": {
                                "fields": [
                                    {
                                        "name": "OutputStatementGuid"
                                    },
                                    {
                                        "name": "OutputStatement"
                                    },
                                    {
                                        "name": "ABCCode"
                                    },
                                    {
                                        "name": "StrategyCode"
                                    },
                                    {
                                        "name": "OperationGuid"
                                    },
                                    {
                                        "name": "StrategyGuid"
                                    },
                                    {
                                        "name": "OutcomeStatementGuid"
                                    },
                                    {
                                        "name": "OutcomeStatement"
                                    },
                                    {
                                        "name": "PlanGuid"
                                    },
                                    {
                                        "name": "Plan"
                                    },
                                    {
                                        "name": "PillarGuid"
                                    },
                                    {
                                        "name": "SituationGuid"
                                    },
                                    {
                                        "name": "Pillar"
                                    },
                                    {
                                        "name": "SituationCode"
                                    },
                                    {
                                        "name": "OutputStatementShortDescr"
                                    },
                                    {
                                        "name": "OutputStatementLongDescr"
                                    },
                                    {
                                        "name": "OutputStatementCode"
                                    },
                                    {
                                        "name": "STGCreationDate"
                                    },
                                    {
                                        "name": "STGLastUpdateDate"
                                    },
                                    {
                                        "name": "STGInsertExecutionLogId"
                                    },
                                    {
                                        "name": "STGLastUpdateExecutionLogId"
                                    },
                                    {
                                        "name": "IsDELETED"
                                    }
                                ]
                            },
                            "data": [
                                {
                                    "OutputStatementGuid": "e992973b-2ab7-ec11-997e-0050f244c037",
                                    "OutputStatement": "11G",
                                    "ABCCode": "DIP ABC",
                                    "StrategyCode": "B",
                                    "OperationGuid": "f2b1600b-7e55-eb11-b9ed-28187830ed2a",
                                    "StrategyGuid": "c270e537-fc82-ec11-a507-501ac5921dd8",
                                    "OutcomeStatementGuid": "70443302-2ab7-ec11-997e-0050f244c037",
                                    "OutcomeStatement": "00O",
                                    "PlanGuid": "2b0e4efa-1894-eb11-b566-0050f27dde44",
                                    "Plan": "DIP ABC",
                                    "PillarGuid": "9aa48322-3754-eb11-b9ed-0050f2421e21",
                                    "SituationGuid": "4d6e0131-3754-eb11-b9ed-0050f2421e21",
                                    "Pillar": "1",
                                    "SituationCode": "900",
                                    "OutputStatementShortDescr": "Integrity support missions, compliance surveys and targeted support undertaken.",
                                    "OutputStatementLongDescr": "17.1.2 Enhanced compliance with the anti-fraud Policy",
                                    "OutputStatementCode": "UD2B00O11G",
                                    "STGCreationDate": "2022-04-08 10:54:16.780",
                                    "STGLastUpdateDate": "2022-04-08 10:54:16.780",
                                    "STGInsertExecutionLogId": "457608",
                                    "STGLastUpdateExecutionLogId": "457608",
                                    "IsDELETED": "0"
                                }
                            ]
                        },
                        "text/html": [
                            "<table>",
                            "<tr><th>OutputStatementGuid</th><th>OutputStatement</th><th>ABCCode</th><th>StrategyCode</th><th>OperationGuid</th><th>StrategyGuid</th><th>OutcomeStatementGuid</th><th>OutcomeStatement</th><th>PlanGuid</th><th>Plan</th><th>PillarGuid</th><th>SituationGuid</th><th>Pillar</th><th>SituationCode</th><th>OutputStatementShortDescr</th><th>OutputStatementLongDescr</th><th>OutputStatementCode</th><th>STGCreationDate</th><th>STGLastUpdateDate</th><th>STGInsertExecutionLogId</th><th>STGLastUpdateExecutionLogId</th><th>IsDELETED</th></tr>",
                            "<tr><td>e992973b-2ab7-ec11-997e-0050f244c037</td><td>11G</td><td>DIP ABC</td><td>B</td><td>f2b1600b-7e55-eb11-b9ed-28187830ed2a</td><td>c270e537-fc82-ec11-a507-501ac5921dd8</td><td>70443302-2ab7-ec11-997e-0050f244c037</td><td>00O</td><td>2b0e4efa-1894-eb11-b566-0050f27dde44</td><td>DIP ABC</td><td>9aa48322-3754-eb11-b9ed-0050f2421e21</td><td>4d6e0131-3754-eb11-b9ed-0050f2421e21</td><td>1</td><td>900</td><td>Integrity support missions, compliance surveys and targeted support undertaken.</td><td>17.1.2 Enhanced compliance with the anti-fraud Policy</td><td>UD2B00O11G</td><td>2022-04-08 10:54:16.780</td><td>2022-04-08 10:54:16.780</td><td>457608</td><td>457608</td><td>0</td></tr>",
                            "</table>"
                        ]
                    }
                }
            ],
            "execution_count": 57
        },
        {
            "cell_type": "code",
            "source": [
                "SELECT budget_year,\r\n",
                "       scenario,\r\n",
                "       budget_category,\r\n",
                "       SUM(usd_amount)\r\n",
                "FROM dev.stg_rdp__apportioned_budget_lines\r\n",
                "GROUP BY budget_year,\r\n",
                "         scenario,\r\n",
                "         budget_category\r\n",
                "ORDER BY budget_year,\r\n",
                "         scenario,\r\n",
                "         budget_category"
            ],
            "metadata": {
                "azdata_cell_guid": "30a96386-7e30-4f63-ae43-8d49d761f830",
                "language": "sql"
            },
            "outputs": [
                {
                    "output_type": "display_data",
                    "data": {
                        "text/html": "(29 rows affected)"
                    },
                    "metadata": {}
                },
                {
                    "output_type": "display_data",
                    "data": {
                        "text/html": "Total execution time: 00:00:00.312"
                    },
                    "metadata": {}
                },
                {
                    "output_type": "execute_result",
                    "metadata": {},
                    "execution_count": 60,
                    "data": {
                        "application/vnd.dataresource+json": {
                            "schema": {
                                "fields": [
                                    {
                                        "name": "budget_year"
                                    },
                                    {
                                        "name": "scenario"
                                    },
                                    {
                                        "name": "budget_category"
                                    },
                                    {
                                        "name": "(No column name)"
                                    }
                                ]
                            },
                            "data": [
                                {
                                    "budget_year": "2023",
                                    "scenario": "DETAILOP",
                                    "budget_category": "ABOD",
                                    "(No column name)": "900299796.8077788"
                                },
                                {
                                    "budget_year": "2023",
                                    "scenario": "DETAILOP",
                                    "budget_category": "STAFF",
                                    "(No column name)": "1619433455.97016"
                                },
                                {
                                    "budget_year": "2023",
                                    "scenario": "DETAILWOL",
                                    "budget_category": "ABOD",
                                    "(No column name)": "511501801.888941"
                                },
                                {
                                    "budget_year": "2023",
                                    "scenario": "DETAILWOL",
                                    "budget_category": "STAFF",
                                    "(No column name)": "1428038985.1123745"
                                },
                                {
                                    "budget_year": "2024",
                                    "scenario": "DETAILOP",
                                    "budget_category": "ABOD",
                                    "(No column name)": "874057162.2378405"
                                },
                                {
                                    "budget_year": "2024",
                                    "scenario": "DETAILOP",
                                    "budget_category": "STAFF",
                                    "(No column name)": "1645190988.1782382"
                                },
                                {
                                    "budget_year": "2024",
                                    "scenario": "DETAILWOL",
                                    "budget_category": "ABOD",
                                    "(No column name)": "481203676.6009044"
                                },
                                {
                                    "budget_year": "2024",
                                    "scenario": "DETAILWOL",
                                    "budget_category": "STAFF",
                                    "(No column name)": "1339861451.0863938"
                                },
                                {
                                    "budget_year": "2024",
                                    "scenario": "EXCOMOP",
                                    "budget_category": "ABOD",
                                    "(No column name)": "18105901"
                                },
                                {
                                    "budget_year": "2025",
                                    "scenario": "DETAILOP",
                                    "budget_category": "ABOD",
                                    "(No column name)": "470262837.63151306"
                                },
                                {
                                    "budget_year": "2025",
                                    "scenario": "DETAILOP",
                                    "budget_category": "STAFF",
                                    "(No column name)": "917281672.157269"
                                },
                                {
                                    "budget_year": "2025",
                                    "scenario": "DETAILWOL",
                                    "budget_category": "ABOD",
                                    "(No column name)": "5239693.890000001"
                                },
                                {
                                    "budget_year": "2025",
                                    "scenario": "DETAILWOL",
                                    "budget_category": "STAFF",
                                    "(No column name)": "379808970.83798003"
                                },
                                {
                                    "budget_year": "2025",
                                    "scenario": "EXCOMOP",
                                    "budget_category": "ABOD",
                                    "(No column name)": "382467012.8885001"
                                },
                                {
                                    "budget_year": "2025",
                                    "scenario": "EXCOMOP",
                                    "budget_category": "STAFF",
                                    "(No column name)": "661430079.5220001"
                                },
                                {
                                    "budget_year": "2026",
                                    "scenario": "DETAILOP",
                                    "budget_category": "ABOD",
                                    "(No column name)": "173857774.25110656"
                                },
                                {
                                    "budget_year": "2026",
                                    "scenario": "DETAILOP",
                                    "budget_category": "STAFF",
                                    "(No column name)": "340871970.4613398"
                                },
                                {
                                    "budget_year": "2026",
                                    "scenario": "DETAILWOL",
                                    "budget_category": "ABOD",
                                    "(No column name)": "1650000"
                                },
                                {
                                    "budget_year": "2026",
                                    "scenario": "EXCOMOP",
                                    "budget_category": "ABOD",
                                    "(No column name)": "370897451.08767"
                                },
                                {
                                    "budget_year": "2026",
                                    "scenario": "EXCOMOP",
                                    "budget_category": "STAFF",
                                    "(No column name)": "649530469.0504"
                                },
                                {
                                    "budget_year": "2027",
                                    "scenario": "DETAILOP",
                                    "budget_category": "ABOD",
                                    "(No column name)": "28592636.92096999"
                                },
                                {
                                    "budget_year": "2027",
                                    "scenario": "DETAILOP",
                                    "budget_category": "STAFF",
                                    "(No column name)": "64005439.26667295"
                                },
                                {
                                    "budget_year": "2027",
                                    "scenario": "EXCOMOP",
                                    "budget_category": "ABOD",
                                    "(No column name)": "371879254.85525"
                                },
                                {
                                    "budget_year": "2027",
                                    "scenario": "EXCOMOP",
                                    "budget_category": "STAFF",
                                    "(No column name)": "643372269.6099997"
                                },
                                {
                                    "budget_year": "2028",
                                    "scenario": "DETAILOP",
                                    "budget_category": "ABOD",
                                    "(No column name)": "1585376.9999999981"
                                },
                                {
                                    "budget_year": "2028",
                                    "scenario": "DETAILOP",
                                    "budget_category": "STAFF",
                                    "(No column name)": "8636400"
                                },
                                {
                                    "budget_year": "2028",
                                    "scenario": "EXCOMOP",
                                    "budget_category": "ABOD",
                                    "(No column name)": "72757845.61799002"
                                },
                                {
                                    "budget_year": "2028",
                                    "scenario": "EXCOMOP",
                                    "budget_category": "STAFF",
                                    "(No column name)": "133612399.99999996"
                                },
                                {
                                    "budget_year": "2029",
                                    "scenario": "EXCOMOP",
                                    "budget_category": "STAFF",
                                    "(No column name)": "48690100.010000005"
                                }
                            ]
                        },
                        "text/html": [
                            "<table>",
                            "<tr><th>budget_year</th><th>scenario</th><th>budget_category</th><th>(No column name)</th></tr>",
                            "<tr><td>2023</td><td>DETAILOP</td><td>ABOD</td><td>900299796.8077788</td></tr>",
                            "<tr><td>2023</td><td>DETAILOP</td><td>STAFF</td><td>1619433455.97016</td></tr>",
                            "<tr><td>2023</td><td>DETAILWOL</td><td>ABOD</td><td>511501801.888941</td></tr>",
                            "<tr><td>2023</td><td>DETAILWOL</td><td>STAFF</td><td>1428038985.1123745</td></tr>",
                            "<tr><td>2024</td><td>DETAILOP</td><td>ABOD</td><td>874057162.2378405</td></tr>",
                            "<tr><td>2024</td><td>DETAILOP</td><td>STAFF</td><td>1645190988.1782382</td></tr>",
                            "<tr><td>2024</td><td>DETAILWOL</td><td>ABOD</td><td>481203676.6009044</td></tr>",
                            "<tr><td>2024</td><td>DETAILWOL</td><td>STAFF</td><td>1339861451.0863938</td></tr>",
                            "<tr><td>2024</td><td>EXCOMOP</td><td>ABOD</td><td>18105901</td></tr>",
                            "<tr><td>2025</td><td>DETAILOP</td><td>ABOD</td><td>470262837.63151306</td></tr>",
                            "<tr><td>2025</td><td>DETAILOP</td><td>STAFF</td><td>917281672.157269</td></tr>",
                            "<tr><td>2025</td><td>DETAILWOL</td><td>ABOD</td><td>5239693.890000001</td></tr>",
                            "<tr><td>2025</td><td>DETAILWOL</td><td>STAFF</td><td>379808970.83798003</td></tr>",
                            "<tr><td>2025</td><td>EXCOMOP</td><td>ABOD</td><td>382467012.8885001</td></tr>",
                            "<tr><td>2025</td><td>EXCOMOP</td><td>STAFF</td><td>661430079.5220001</td></tr>",
                            "<tr><td>2026</td><td>DETAILOP</td><td>ABOD</td><td>173857774.25110656</td></tr>",
                            "<tr><td>2026</td><td>DETAILOP</td><td>STAFF</td><td>340871970.4613398</td></tr>",
                            "<tr><td>2026</td><td>DETAILWOL</td><td>ABOD</td><td>1650000</td></tr>",
                            "<tr><td>2026</td><td>EXCOMOP</td><td>ABOD</td><td>370897451.08767</td></tr>",
                            "<tr><td>2026</td><td>EXCOMOP</td><td>STAFF</td><td>649530469.0504</td></tr>",
                            "<tr><td>2027</td><td>DETAILOP</td><td>ABOD</td><td>28592636.92096999</td></tr>",
                            "<tr><td>2027</td><td>DETAILOP</td><td>STAFF</td><td>64005439.26667295</td></tr>",
                            "<tr><td>2027</td><td>EXCOMOP</td><td>ABOD</td><td>371879254.85525</td></tr>",
                            "<tr><td>2027</td><td>EXCOMOP</td><td>STAFF</td><td>643372269.6099997</td></tr>",
                            "<tr><td>2028</td><td>DETAILOP</td><td>ABOD</td><td>1585376.9999999981</td></tr>",
                            "<tr><td>2028</td><td>DETAILOP</td><td>STAFF</td><td>8636400</td></tr>",
                            "<tr><td>2028</td><td>EXCOMOP</td><td>ABOD</td><td>72757845.61799002</td></tr>",
                            "<tr><td>2028</td><td>EXCOMOP</td><td>STAFF</td><td>133612399.99999996</td></tr>",
                            "<tr><td>2029</td><td>EXCOMOP</td><td>STAFF</td><td>48690100.010000005</td></tr>",
                            "</table>"
                        ]
                    }
                }
            ],
            "execution_count": 60
        },
        {
            "cell_type": "code",
            "source": [
                "SELECT budget_year,\r\n",
                "       scenario,\r\n",
                "       SUM(usd_amount)\r\n",
                "FROM dev.stg_rdp__ops_budget_lines\r\n",
                "GROUP BY budget_year,\r\n",
                "         scenario\r\n",
                "ORDER BY budget_year,\r\n",
                "         scenario\r\n",
                ""
            ],
            "metadata": {
                "azdata_cell_guid": "6faad741-63db-4ac8-a070-ed401093538d",
                "language": "sql"
            },
            "outputs": [
                {
                    "output_type": "display_data",
                    "data": {
                        "text/html": "(16 rows affected)"
                    },
                    "metadata": {}
                },
                {
                    "output_type": "display_data",
                    "data": {
                        "text/html": "Total execution time: 00:00:00.953"
                    },
                    "metadata": {}
                },
                {
                    "output_type": "execute_result",
                    "metadata": {},
                    "execution_count": 61,
                    "data": {
                        "application/vnd.dataresource+json": {
                            "schema": {
                                "fields": [
                                    {
                                        "name": "budget_year"
                                    },
                                    {
                                        "name": "scenario"
                                    },
                                    {
                                        "name": "(No column name)"
                                    }
                                ]
                            },
                            "data": [
                                {
                                    "budget_year": "2023",
                                    "scenario": "DETAILOP",
                                    "(No column name)": "7911293905.921686"
                                },
                                {
                                    "budget_year": "2023",
                                    "scenario": "DETAILWOL",
                                    "(No column name)": "3135356916.2348814"
                                },
                                {
                                    "budget_year": "2024",
                                    "scenario": "DETAILOP",
                                    "(No column name)": "7770775980.291346"
                                },
                                {
                                    "budget_year": "2024",
                                    "scenario": "DETAILWOL",
                                    "(No column name)": "2289891296.3005657"
                                },
                                {
                                    "budget_year": "2024",
                                    "scenario": "EXCOMOP",
                                    "(No column name)": "50349485.23220779"
                                },
                                {
                                    "budget_year": "2025",
                                    "scenario": "DETAILOP",
                                    "(No column name)": "5121781728.1244955"
                                },
                                {
                                    "budget_year": "2025",
                                    "scenario": "DETAILWOL",
                                    "(No column name)": "2918537.411229776"
                                },
                                {
                                    "budget_year": "2025",
                                    "scenario": "EXCOMOP",
                                    "(No column name)": "2426584024.5032406"
                                },
                                {
                                    "budget_year": "2026",
                                    "scenario": "DETAILOP",
                                    "(No column name)": "1401350503.8005433"
                                },
                                {
                                    "budget_year": "2026",
                                    "scenario": "DETAILWOL",
                                    "(No column name)": "0.00160833759697243"
                                },
                                {
                                    "budget_year": "2026",
                                    "scenario": "EXCOMOP",
                                    "(No column name)": "2314231571.382495"
                                },
                                {
                                    "budget_year": "2027",
                                    "scenario": "DETAILOP",
                                    "(No column name)": "340417365.98061407"
                                },
                                {
                                    "budget_year": "2027",
                                    "scenario": "EXCOMOP",
                                    "(No column name)": "2218776448.8794003"
                                },
                                {
                                    "budget_year": "2028",
                                    "scenario": "DETAILOP",
                                    "(No column name)": "1638805"
                                },
                                {
                                    "budget_year": "2028",
                                    "scenario": "EXCOMOP",
                                    "(No column name)": "725999346.4705833"
                                },
                                {
                                    "budget_year": "2029",
                                    "scenario": "EXCOMOP",
                                    "(No column name)": "384277890.6261126"
                                }
                            ]
                        },
                        "text/html": [
                            "<table>",
                            "<tr><th>budget_year</th><th>scenario</th><th>(No column name)</th></tr>",
                            "<tr><td>2023</td><td>DETAILOP</td><td>7911293905.921686</td></tr>",
                            "<tr><td>2023</td><td>DETAILWOL</td><td>3135356916.2348814</td></tr>",
                            "<tr><td>2024</td><td>DETAILOP</td><td>7770775980.291346</td></tr>",
                            "<tr><td>2024</td><td>DETAILWOL</td><td>2289891296.3005657</td></tr>",
                            "<tr><td>2024</td><td>EXCOMOP</td><td>50349485.23220779</td></tr>",
                            "<tr><td>2025</td><td>DETAILOP</td><td>5121781728.1244955</td></tr>",
                            "<tr><td>2025</td><td>DETAILWOL</td><td>2918537.411229776</td></tr>",
                            "<tr><td>2025</td><td>EXCOMOP</td><td>2426584024.5032406</td></tr>",
                            "<tr><td>2026</td><td>DETAILOP</td><td>1401350503.8005433</td></tr>",
                            "<tr><td>2026</td><td>DETAILWOL</td><td>0.00160833759697243</td></tr>",
                            "<tr><td>2026</td><td>EXCOMOP</td><td>2314231571.382495</td></tr>",
                            "<tr><td>2027</td><td>DETAILOP</td><td>340417365.98061407</td></tr>",
                            "<tr><td>2027</td><td>EXCOMOP</td><td>2218776448.8794003</td></tr>",
                            "<tr><td>2028</td><td>DETAILOP</td><td>1638805</td></tr>",
                            "<tr><td>2028</td><td>EXCOMOP</td><td>725999346.4705833</td></tr>",
                            "<tr><td>2029</td><td>EXCOMOP</td><td>384277890.6261126</td></tr>",
                            "</table>"
                        ]
                    }
                }
            ],
            "execution_count": 61
        }
    ]
}