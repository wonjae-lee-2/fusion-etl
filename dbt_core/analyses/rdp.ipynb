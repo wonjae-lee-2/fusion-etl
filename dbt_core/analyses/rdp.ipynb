{
    "metadata": {
        "kernelspec": {
            "name": "SQL",
            "display_name": "SQL",
            "language": "sql"
        },
        "language_info": {
            "name": "sql",
            "version": ""
        }
    },
    "nbformat_minor": 2,
    "nbformat": 4,
    "cells": [
        {
            "cell_type": "code",
            "source": [
                "SELECT SUM(USDAmount)\r\n",
                "FROM srv.OPSBudgetLine\r\n",
                "WHERE BudgetYear = '2024' AND Scenario = 'DETAILWOL';"
            ],
            "metadata": {
                "azdata_cell_guid": "d70809de-41a7-4260-b37b-8ca1914626af",
                "language": "sql"
            },
            "outputs": [
                {
                    "output_type": "display_data",
                    "data": {
                        "text/html": "(1 row affected)"
                    },
                    "metadata": {}
                },
                {
                    "output_type": "display_data",
                    "data": {
                        "text/html": "Total execution time: 00:00:00.188"
                    },
                    "metadata": {}
                },
                {
                    "output_type": "execute_result",
                    "metadata": {},
                    "execution_count": 1,
                    "data": {
                        "application/vnd.dataresource+json": {
                            "schema": {
                                "fields": [
                                    {
                                        "name": "(No column name)"
                                    }
                                ]
                            },
                            "data": [
                                {
                                    "(No column name)": "2291024583.8197937"
                                }
                            ]
                        },
                        "text/html": [
                            "<table>",
                            "<tr><th>(No column name)</th></tr>",
                            "<tr><td>2291024583.8197937</td></tr>",
                            "</table>"
                        ]
                    }
                }
            ],
            "execution_count": 1
        },
        {
            "cell_type": "code",
            "source": [
                "SELECT ABCCode, \"Plan\", SUM(USDAmount)\r\n",
                "FROM srv.OPSBudgetLine\r\n",
                "WHERE BudgetYear = '2024' AND Scenario = 'DETAILWOL'\r\n",
                "GROUP BY ABCCode, \"Plan\";"
            ],
            "metadata": {
                "azdata_cell_guid": "410dc42f-9d80-4cd1-aadd-20fb64d2966b",
                "language": "sql"
            },
            "outputs": [
                {
                    "output_type": "display_data",
                    "data": {
                        "text/html": "(142 rows affected)"
                    },
                    "metadata": {}
                },
                {
                    "output_type": "display_data",
                    "data": {
                        "text/html": "Total execution time: 00:00:00.206"
                    },
                    "metadata": {}
                },
                {
                    "output_type": "execute_result",
                    "metadata": {},
                    "execution_count": 7,
                    "data": {
                        "application/vnd.dataresource+json": {
                            "schema": {
                                "fields": [
                                    {
                                        "name": "ABCCode"
                                    },
                                    {
                                        "name": "Plan"
                                    },
                                    {
                                        "name": "(No column name)"
                                    }
                                ]
                            },
                            "data": [
                                {
                                    "ABCCode": "AFG ABC",
                                    "Plan": "AFG ABC",
                                    "(No column name)": "72530118.75015537"
                                },
                                {
                                    "ABCCode": "AGO ABC",
                                    "Plan": "AGO ABC",
                                    "(No column name)": "2385865.99680001"
                                },
                                {
                                    "ABCCode": "ALB ABC",
                                    "Plan": "ALB ABC",
                                    "(No column name)": "932870.0021289707"
                                },
                                {
                                    "ABCCode": "AMERB ABC",
                                    "Plan": "AMERB ABC",
                                    "(No column name)": "1057320"
                                },
                                {
                                    "ABCCode": "ARG MC ABC",
                                    "Plan": "Argentina MCO",
                                    "(No column name)": "4792152.036724438"
                                },
                                {
                                    "ABCCode": "ARM ABC",
                                    "Plan": "ARM ABC",
                                    "(No column name)": "9965923.00228198"
                                },
                                {
                                    "ABCCode": "ASORB ABC",
                                    "Plan": "ASORB ABC",
                                    "(No column name)": "2340264.0042415475"
                                },
                                {
                                    "ABCCode": "AUS MC ABC",
                                    "Plan": "Australia MCO",
                                    "(No column name)": "549068.9978800721"
                                },
                                {
                                    "ABCCode": "OOE ABC",
                                    "Plan": "Austria",
                                    "(No column name)": "109020.04060384035"
                                },
                                {
                                    "ABCCode": "AZE ABC",
                                    "Plan": "AZE ABC",
                                    "(No column name)": "2666220.9933353993"
                                },
                                {
                                    "ABCCode": "BDI ABC",
                                    "Plan": "BDI ABC",
                                    "(No column name)": "15433814.302708454"
                                },
                                {
                                    "ABCCode": "BEL MC ABC",
                                    "Plan": "Belgium",
                                    "(No column name)": "188354.44957318803"
                                },
                                {
                                    "ABCCode": "BEL MC ABC",
                                    "Plan": "Belgium MCO",
                                    "(No column name)": "536478.2330595553"
                                },
                                {
                                    "ABCCode": "BFA ABC",
                                    "Plan": "BFA ABC",
                                    "(No column name)": "22466575.913037404"
                                },
                                {
                                    "ABCCode": "BGD ABC",
                                    "Plan": "BGD ABC",
                                    "(No column name)": "78721697.99839988"
                                },
                                {
                                    "ABCCode": "BGR ABC",
                                    "Plan": "BGR ABC",
                                    "(No column name)": "9008778.00558348"
                                },
                                {
                                    "ABCCode": "BIH ABC",
                                    "Plan": "BIH ABC",
                                    "(No column name)": "2730644.996113351"
                                },
                                {
                                    "ABCCode": "BLR ABC",
                                    "Plan": "BLR ABC",
                                    "(No column name)": "779683.00182808"
                                },
                                {
                                    "ABCCode": "BRA ABC",
                                    "Plan": "BRA ABC",
                                    "(No column name)": "9372422.003476938"
                                },
                                {
                                    "ABCCode": "CAF ABC",
                                    "Plan": "CAF ABC",
                                    "(No column name)": "14606143.964221446"
                                },
                                {
                                    "ABCCode": "CMR MC ABC",
                                    "Plan": "Cameroon MCO",
                                    "(No column name)": "18113454.987300158"
                                },
                                {
                                    "ABCCode": "CAN ABC",
                                    "Plan": "CAN ABC",
                                    "(No column name)": "69180"
                                },
                                {
                                    "ABCCode": "ARG MC ABC",
                                    "Plan": "Chile",
                                    "(No column name)": "4975099.996518119"
                                },
                                {
                                    "ABCCode": "CHN ABC",
                                    "Plan": "CHN ABC",
                                    "(No column name)": "828719.9889779121"
                                },
                                {
                                    "ABCCode": "COD ABC",
                                    "Plan": "COD ABC",
                                    "(No column name)": "47356859.65904065"
                                },
                                {
                                    "ABCCode": "COG ABC",
                                    "Plan": "COG ABC",
                                    "(No column name)": "2895582.997271928"
                                },
                                {
                                    "ABCCode": "COL ABC",
                                    "Plan": "COL ABC",
                                    "(No column name)": "40418459.49152626"
                                },
                                {
                                    "ABCCode": "CIV MC ABC",
                                    "Plan": "Cote dIvoire MCO",
                                    "(No column name)": "5836957.814554221"
                                },
                                {
                                    "ABCCode": "CRI ABC",
                                    "Plan": "CRI ABC",
                                    "(No column name)": "9450311.000842232"
                                },
                                {
                                    "ABCCode": "CYP ABC",
                                    "Plan": "CYP ABC",
                                    "(No column name)": "1043309.9871011542"
                                },
                                {
                                    "ABCCode": "HUN MC ABC",
                                    "Plan": "Czech Republic",
                                    "(No column name)": "2670686.0561313555"
                                },
                                {
                                    "ABCCode": "DER ABC",
                                    "Plan": "DER ABC",
                                    "(No column name)": "7410268.550765901"
                                },
                                {
                                    "ABCCode": "DESS ABC",
                                    "Plan": "DESS ABC",
                                    "(No column name)": "13324322.9991"
                                },
                                {
                                    "ABCCode": "DEU ABC",
                                    "Plan": "DEU ABC",
                                    "(No column name)": "125399.99817081653"
                                },
                                {
                                    "ABCCode": "DFAM ABC",
                                    "Plan": "DFAM ABC",
                                    "(No column name)": "201619.4"
                                },
                                {
                                    "ABCCode": "DHR ABC",
                                    "Plan": "DHR ABC",
                                    "(No column name)": "897499.6592459399"
                                },
                                {
                                    "ABCCode": "DIP ABC",
                                    "Plan": "DIP ABC",
                                    "(No column name)": "18804143.891110484"
                                },
                                {
                                    "ABCCode": "DIST ABC",
                                    "Plan": "DIST ABC",
                                    "(No column name)": "803000"
                                },
                                {
                                    "ABCCode": "DJI ABC",
                                    "Plan": "DJI ABC",
                                    "(No column name)": "4463814.004167599"
                                },
                                {
                                    "ABCCode": "DRS ABC",
                                    "Plan": "DRS ABC",
                                    "(No column name)": "29950697.190001197"
                                },
                                {
                                    "ABCCode": "DZA ABC",
                                    "Plan": "DZA ABC",
                                    "(No column name)": "10180525.7591389"
                                },
                                {
                                    "ABCCode": "ECU ABC",
                                    "Plan": "ECU ABC",
                                    "(No column name)": "11313389.507421736"
                                },
                                {
                                    "ABCCode": "EGY ABC",
                                    "Plan": "EGY ABC",
                                    "(No column name)": "50387264.00407488"
                                },
                                {
                                    "ABCCode": "EHGLRB ABC",
                                    "Plan": "EHGLRB ABC",
                                    "(No column name)": "3275795.704108852"
                                },
                                {
                                    "ABCCode": "ERI ABC",
                                    "Plan": "ERI ABC",
                                    "(No column name)": "250039"
                                },
                                {
                                    "ABCCode": "ESH ABC",
                                    "Plan": "ESH ABC",
                                    "(No column name)": "284193.001"
                                },
                                {
                                    "ABCCode": "ESP ABC",
                                    "Plan": "ESP ABC",
                                    "(No column name)": "930300.6328434016"
                                },
                                {
                                    "ABCCode": "ETH ABC",
                                    "Plan": "ETH ABC",
                                    "(No column name)": "67916744.28763187"
                                },
                                {
                                    "ABCCode": "EURRB ABC",
                                    "Plan": "EURRB ABC",
                                    "(No column name)": "5013046.99911999"
                                },
                                {
                                    "ABCCode": "EVAL ABC",
                                    "Plan": "EVAL ABC",
                                    "(No column name)": "2947299.9909989354"
                                },
                                {
                                    "ABCCode": "FRA ABC",
                                    "Plan": "FRA ABC",
                                    "(No column name)": "1503385.6538148043"
                                },
                                {
                                    "ABCCode": "GBR ABC",
                                    "Plan": "GBR ABC",
                                    "(No column name)": "211395"
                                },
                                {
                                    "ABCCode": "GDS ABC",
                                    "Plan": "GDS ABC",
                                    "(No column name)": "9201126.00213802"
                                },
                                {
                                    "ABCCode": "GEO ABC",
                                    "Plan": "GEO ABC",
                                    "(No column name)": "2010820.002783685"
                                },
                                {
                                    "ABCCode": "CIV MC ABC",
                                    "Plan": "Ghana",
                                    "(No column name)": "1300000.0017484673"
                                },
                                {
                                    "ABCCode": "GRC ABC",
                                    "Plan": "GRC ABC",
                                    "(No column name)": "11308141.264375417"
                                },
                                {
                                    "ABCCode": "GTM ABC",
                                    "Plan": "GTM ABC",
                                    "(No column name)": "10346010.970198188"
                                },
                                {
                                    "ABCCode": "HND ABC",
                                    "Plan": "HND ABC",
                                    "(No column name)": "9287614.816910416"
                                },
                                {
                                    "ABCCode": "HRV ABC",
                                    "Plan": "HRV ABC",
                                    "(No column name)": "856408.9596596411"
                                },
                                {
                                    "ABCCode": "HUN MC ABC",
                                    "Plan": "Hungary MCO",
                                    "(No column name)": "3843182.276599893"
                                },
                                {
                                    "ABCCode": "IDN ABC",
                                    "Plan": "IDN ABC",
                                    "(No column name)": "3636696.9965253696"
                                },
                                {
                                    "ABCCode": "IND ABC",
                                    "Plan": "IND ABC",
                                    "(No column name)": "4957921.992403492"
                                },
                                {
                                    "ABCCode": "INNV ABC",
                                    "Plan": "INNV ABC",
                                    "(No column name)": "5031254.002112636"
                                },
                                {
                                    "ABCCode": "INVP ABC",
                                    "Plan": "INVP ABC",
                                    "(No column name)": "17771036"
                                },
                                {
                                    "ABCCode": "BEL MC ABC",
                                    "Plan": "Ireland",
                                    "(No column name)": "140466.00006075655"
                                },
                                {
                                    "ABCCode": "IRN ABC",
                                    "Plan": "IRN ABC",
                                    "(No column name)": "20272509.999136366"
                                },
                                {
                                    "ABCCode": "IRQ ABC",
                                    "Plan": "IRQ ABC",
                                    "(No column name)": "70773070.00255182"
                                },
                                {
                                    "ABCCode": "ISR ABC",
                                    "Plan": "ISR ABC",
                                    "(No column name)": "1129162.0011517021"
                                },
                                {
                                    "ABCCode": "ITA MC ABC",
                                    "Plan": "Italy MCO",
                                    "(No column name)": "3971965.8914288576"
                                },
                                {
                                    "ABCCode": "JOR ABC",
                                    "Plan": "JOR ABC",
                                    "(No column name)": "107955289.5753359"
                                },
                                {
                                    "ABCCode": "JPN ABC",
                                    "Plan": "JPN ABC",
                                    "(No column name)": "499227.1717600358"
                                },
                                {
                                    "ABCCode": "KAZ MC ABC",
                                    "Plan": "Kazakhstan MCO",
                                    "(No column name)": "1693103.0027628292"
                                },
                                {
                                    "ABCCode": "KEN ABC",
                                    "Plan": "KEN ABC",
                                    "(No column name)": "50044788.28459736"
                                },
                                {
                                    "ABCCode": "KOR ABC",
                                    "Plan": "KOR ABC",
                                    "(No column name)": "526145.0006338776"
                                },
                                {
                                    "ABCCode": "KOS ABC",
                                    "Plan": "KOS ABC",
                                    "(No column name)": "829077.9924142589"
                                },
                                {
                                    "ABCCode": "SAU MC ABC",
                                    "Plan": "Kuwait",
                                    "(No column name)": "228074.88"
                                },
                                {
                                    "ABCCode": "LBN ABC",
                                    "Plan": "LBN ABC",
                                    "(No column name)": "139965121.98832378"
                                },
                                {
                                    "ABCCode": "LBY ABC",
                                    "Plan": "LBY ABC",
                                    "(No column name)": "15536438.003108125"
                                },
                                {
                                    "ABCCode": "LKA ABC",
                                    "Plan": "LKA ABC",
                                    "(No column name)": "514999.98679704726"
                                },
                                {
                                    "ABCCode": "BEL MC ABC",
                                    "Plan": "Luxembourg",
                                    "(No column name)": "43308.17447375795"
                                },
                                {
                                    "ABCCode": "MAR ABC",
                                    "Plan": "MAR ABC",
                                    "(No column name)": "5357851.00656077"
                                },
                                {
                                    "ABCCode": "MDA ABC",
                                    "Plan": "MDA ABC",
                                    "(No column name)": "47966753.55602611"
                                },
                                {
                                    "ABCCode": "MENARB ABC",
                                    "Plan": "MENARB ABC",
                                    "(No column name)": "8743119.002003357"
                                },
                                {
                                    "ABCCode": "MEX ABC",
                                    "Plan": "MEX ABC",
                                    "(No column name)": "39040102.9951455"
                                },
                                {
                                    "ABCCode": "MKD ABC",
                                    "Plan": "MKD ABC",
                                    "(No column name)": "811304.6226698549"
                                },
                                {
                                    "ABCCode": "MLI ABC",
                                    "Plan": "MLI ABC",
                                    "(No column name)": "15051480.493180402"
                                },
                                {
                                    "ABCCode": "MLT ABC",
                                    "Plan": "MLT ABC",
                                    "(No column name)": "162805.59290267673"
                                },
                                {
                                    "ABCCode": "MMR ABC",
                                    "Plan": "MMR ABC",
                                    "(No column name)": "14947954.89252297"
                                },
                                {
                                    "ABCCode": "MNE ABC",
                                    "Plan": "MNE ABC",
                                    "(No column name)": "759500.0005944978"
                                },
                                {
                                    "ABCCode": "MOZ ABC",
                                    "Plan": "MOZ ABC",
                                    "(No column name)": "10179394.00422078"
                                },
                                {
                                    "ABCCode": "MRT ABC",
                                    "Plan": "MRT ABC",
                                    "(No column name)": "14678740.987270294"
                                },
                                {
                                    "ABCCode": "MWI ABC",
                                    "Plan": "MWI ABC",
                                    "(No column name)": "2389376.995994521"
                                },
                                {
                                    "ABCCode": "MYS ABC",
                                    "Plan": "MYS ABC",
                                    "(No column name)": "2537911.965211425"
                                },
                                {
                                    "ABCCode": "NER ABC",
                                    "Plan": "NER ABC",
                                    "(No column name)": "34011137.99845602"
                                },
                                {
                                    "ABCCode": "BEL MC ABC",
                                    "Plan": "Netherlands",
                                    "(No column name)": "52046.12793279719"
                                },
                                {
                                    "ABCCode": "NGA ABC",
                                    "Plan": "NGA ABC",
                                    "(No column name)": "14879223.000022892"
                                },
                                {
                                    "ABCCode": "NPL ABC",
                                    "Plan": "NPL ABC",
                                    "(No column name)": "1737419.9986630743"
                                },
                                {
                                    "ABCCode": "OOA ABC",
                                    "Plan": "OOA ABC",
                                    "(No column name)": "154752"
                                },
                                {
                                    "ABCCode": "OOE ABC",
                                    "Plan": "OOE Plan",
                                    "(No column name)": "83751"
                                },
                                {
                                    "ABCCode": "OOM ABC",
                                    "Plan": "OOM ABC",
                                    "(No column name)": "10601391.99950001"
                                },
                                {
                                    "ABCCode": "OOR ABC",
                                    "Plan": "OOR ABC",
                                    "(No column name)": "2485007"
                                },
                                {
                                    "ABCCode": "PAK ABC",
                                    "Plan": "PAK ABC",
                                    "(No column name)": "25106453.000759147"
                                },
                                {
                                    "ABCCode": "PAN MC ABC",
                                    "Plan": "Panama MCO",
                                    "(No column name)": "7953705.63298488"
                                },
                                {
                                    "ABCCode": "PER ABC",
                                    "Plan": "PER ABC",
                                    "(No column name)": "10293363.001489427"
                                },
                                {
                                    "ABCCode": "PHL ABC",
                                    "Plan": "PHL ABC",
                                    "(No column name)": "731771.3286424363"
                                },
                                {
                                    "ABCCode": "POL ABC",
                                    "Plan": "POL ABC",
                                    "(No column name)": "18542492.00349549"
                                },
                                {
                                    "ABCCode": "OOE ABC",
                                    "Plan": "Portugal",
                                    "(No column name)": "608770.00211275"
                                },
                                {
                                    "ABCCode": "PSP ABC",
                                    "Plan": "PSP ABC",
                                    "(No column name)": "127729219.28143483"
                                },
                                {
                                    "ABCCode": "SAU MC ABC",
                                    "Plan": "Qatar",
                                    "(No column name)": "55000"
                                },
                                {
                                    "ABCCode": "ROU ABC",
                                    "Plan": "ROU ABC",
                                    "(No column name)": "14302499.425527114"
                                },
                                {
                                    "ABCCode": "RUS ABC",
                                    "Plan": "RUS ABC",
                                    "(No column name)": "3198279.998319805"
                                },
                                {
                                    "ABCCode": "RWA ABC",
                                    "Plan": "RWA ABC",
                                    "(No column name)": "15871207.99609813"
                                },
                                {
                                    "ABCCode": "SAORB ABC",
                                    "Plan": "SAORB ABC",
                                    "(No column name)": "949221.000891701"
                                },
                                {
                                    "ABCCode": "SAU MC ABC",
                                    "Plan": "Saudi Arabia MCO",
                                    "(No column name)": "433210"
                                },
                                {
                                    "ABCCode": "SDN ABC",
                                    "Plan": "SDN ABC",
                                    "(No column name)": "56440217.0060496"
                                },
                                {
                                    "ABCCode": "SEN MC ABC",
                                    "Plan": "Senegal MCO",
                                    "(No column name)": "1673511.4320333346"
                                },
                                {
                                    "ABCCode": "HUN MC ABC",
                                    "Plan": "Slovakia",
                                    "(No column name)": "4950000.450158263"
                                },
                                {
                                    "ABCCode": "SLV ABC",
                                    "Plan": "SLV ABC",
                                    "(No column name)": "10736418.00246402"
                                },
                                {
                                    "ABCCode": "SOM ABC",
                                    "Plan": "SOM ABC",
                                    "(No column name)": "15068428.001638995"
                                },
                                {
                                    "ABCCode": "ZAF MC ABC",
                                    "Plan": "South Africa MCO",
                                    "(No column name)": "3271506.99899726"
                                },
                                {
                                    "ABCCode": "SRB ABC",
                                    "Plan": "SRB ABC",
                                    "(No column name)": "3010061.998674711"
                                },
                                {
                                    "ABCCode": "SSD ABC",
                                    "Plan": "SSD ABC",
                                    "(No column name)": "52066027.11586926"
                                },
                                {
                                    "ABCCode": "SWE MC ABC",
                                    "Plan": "Sweden MCO",
                                    "(No column name)": "2475437.998830307"
                                },
                                {
                                    "ABCCode": "OOE ABC",
                                    "Plan": "Switzerland",
                                    "(No column name)": "240000.00112319327"
                                },
                                {
                                    "ABCCode": "SYR ABC",
                                    "Plan": "SYR ABC",
                                    "(No column name)": "73665451.49525848"
                                },
                                {
                                    "ABCCode": "TCD ABC",
                                    "Plan": "TCD ABC",
                                    "(No column name)": "57335519.00039284"
                                },
                                {
                                    "ABCCode": "THA MC ABC",
                                    "Plan": "Thailand",
                                    "(No column name)": "6698964.161661278"
                                },
                                {
                                    "ABCCode": "TJK ABC",
                                    "Plan": "TJK ABC",
                                    "(No column name)": "1008300.0034847244"
                                },
                                {
                                    "ABCCode": "CIV MC ABC",
                                    "Plan": "Togo",
                                    "(No column name)": "2330000.0091129923"
                                },
                                {
                                    "ABCCode": "TUN ABC",
                                    "Plan": "TUN ABC",
                                    "(No column name)": "5543752.993713254"
                                },
                                {
                                    "ABCCode": "TUR ABC",
                                    "Plan": "TUR ABC",
                                    "(No column name)": "73260339.99724694"
                                },
                                {
                                    "ABCCode": "TZA ABC",
                                    "Plan": "TZA ABC",
                                    "(No column name)": "16415390.995282602"
                                },
                                {
                                    "ABCCode": "UGA ABC",
                                    "Plan": "UGA ABC",
                                    "(No column name)": "84906108.16172662"
                                },
                                {
                                    "ABCCode": "UKR ABC",
                                    "Plan": "UKR ABC",
                                    "(No column name)": "177954892.997805"
                                },
                                {
                                    "ABCCode": "SAU MC ABC",
                                    "Plan": "United Arab Emirates",
                                    "(No column name)": "299120.12"
                                },
                                {
                                    "ABCCode": "USA MC ABC",
                                    "Plan": "United States MCO",
                                    "(No column name)": "4385432.98631726"
                                },
                                {
                                    "ABCCode": "VEN ABC",
                                    "Plan": "VEN ABC",
                                    "(No column name)": "7292592.002499969"
                                },
                                {
                                    "ABCCode": "WCARB ABC",
                                    "Plan": "WCARB ABC",
                                    "(No column name)": "2063987.9957019377"
                                },
                                {
                                    "ABCCode": "XAS ABC",
                                    "Plan": "XAS ABC",
                                    "(No column name)": "1060690.9334061707"
                                },
                                {
                                    "ABCCode": "YEM ABC",
                                    "Plan": "YEM ABC",
                                    "(No column name)": "61091576.000183985"
                                },
                                {
                                    "ABCCode": "ZMB ABC",
                                    "Plan": "ZMB ABC",
                                    "(No column name)": "3141069.905412093"
                                },
                                {
                                    "ABCCode": "ZWE ABC",
                                    "Plan": "ZWE ABC",
                                    "(No column name)": "1534422"
                                }
                            ]
                        },
                        "text/html": [
                            "<table>",
                            "<tr><th>ABCCode</th><th>Plan</th><th>(No column name)</th></tr>",
                            "<tr><td>AFG ABC</td><td>AFG ABC</td><td>72530118.75015537</td></tr>",
                            "<tr><td>AGO ABC</td><td>AGO ABC</td><td>2385865.99680001</td></tr>",
                            "<tr><td>ALB ABC</td><td>ALB ABC</td><td>932870.0021289707</td></tr>",
                            "<tr><td>AMERB ABC</td><td>AMERB ABC</td><td>1057320</td></tr>",
                            "<tr><td>ARG MC ABC</td><td>Argentina MCO</td><td>4792152.036724438</td></tr>",
                            "<tr><td>ARM ABC</td><td>ARM ABC</td><td>9965923.00228198</td></tr>",
                            "<tr><td>ASORB ABC</td><td>ASORB ABC</td><td>2340264.0042415475</td></tr>",
                            "<tr><td>AUS MC ABC</td><td>Australia MCO</td><td>549068.9978800721</td></tr>",
                            "<tr><td>OOE ABC</td><td>Austria</td><td>109020.04060384035</td></tr>",
                            "<tr><td>AZE ABC</td><td>AZE ABC</td><td>2666220.9933353993</td></tr>",
                            "<tr><td>BDI ABC</td><td>BDI ABC</td><td>15433814.302708454</td></tr>",
                            "<tr><td>BEL MC ABC</td><td>Belgium</td><td>188354.44957318803</td></tr>",
                            "<tr><td>BEL MC ABC</td><td>Belgium MCO</td><td>536478.2330595553</td></tr>",
                            "<tr><td>BFA ABC</td><td>BFA ABC</td><td>22466575.913037404</td></tr>",
                            "<tr><td>BGD ABC</td><td>BGD ABC</td><td>78721697.99839988</td></tr>",
                            "<tr><td>BGR ABC</td><td>BGR ABC</td><td>9008778.00558348</td></tr>",
                            "<tr><td>BIH ABC</td><td>BIH ABC</td><td>2730644.996113351</td></tr>",
                            "<tr><td>BLR ABC</td><td>BLR ABC</td><td>779683.00182808</td></tr>",
                            "<tr><td>BRA ABC</td><td>BRA ABC</td><td>9372422.003476938</td></tr>",
                            "<tr><td>CAF ABC</td><td>CAF ABC</td><td>14606143.964221446</td></tr>",
                            "<tr><td>CMR MC ABC</td><td>Cameroon MCO</td><td>18113454.987300158</td></tr>",
                            "<tr><td>CAN ABC</td><td>CAN ABC</td><td>69180</td></tr>",
                            "<tr><td>ARG MC ABC</td><td>Chile</td><td>4975099.996518119</td></tr>",
                            "<tr><td>CHN ABC</td><td>CHN ABC</td><td>828719.9889779121</td></tr>",
                            "<tr><td>COD ABC</td><td>COD ABC</td><td>47356859.65904065</td></tr>",
                            "<tr><td>COG ABC</td><td>COG ABC</td><td>2895582.997271928</td></tr>",
                            "<tr><td>COL ABC</td><td>COL ABC</td><td>40418459.49152626</td></tr>",
                            "<tr><td>CIV MC ABC</td><td>Cote dIvoire MCO</td><td>5836957.814554221</td></tr>",
                            "<tr><td>CRI ABC</td><td>CRI ABC</td><td>9450311.000842232</td></tr>",
                            "<tr><td>CYP ABC</td><td>CYP ABC</td><td>1043309.9871011542</td></tr>",
                            "<tr><td>HUN MC ABC</td><td>Czech Republic</td><td>2670686.0561313555</td></tr>",
                            "<tr><td>DER ABC</td><td>DER ABC</td><td>7410268.550765901</td></tr>",
                            "<tr><td>DESS ABC</td><td>DESS ABC</td><td>13324322.9991</td></tr>",
                            "<tr><td>DEU ABC</td><td>DEU ABC</td><td>125399.99817081653</td></tr>",
                            "<tr><td>DFAM ABC</td><td>DFAM ABC</td><td>201619.4</td></tr>",
                            "<tr><td>DHR ABC</td><td>DHR ABC</td><td>897499.6592459399</td></tr>",
                            "<tr><td>DIP ABC</td><td>DIP ABC</td><td>18804143.891110484</td></tr>",
                            "<tr><td>DIST ABC</td><td>DIST ABC</td><td>803000</td></tr>",
                            "<tr><td>DJI ABC</td><td>DJI ABC</td><td>4463814.004167599</td></tr>",
                            "<tr><td>DRS ABC</td><td>DRS ABC</td><td>29950697.190001197</td></tr>",
                            "<tr><td>DZA ABC</td><td>DZA ABC</td><td>10180525.7591389</td></tr>",
                            "<tr><td>ECU ABC</td><td>ECU ABC</td><td>11313389.507421736</td></tr>",
                            "<tr><td>EGY ABC</td><td>EGY ABC</td><td>50387264.00407488</td></tr>",
                            "<tr><td>EHGLRB ABC</td><td>EHGLRB ABC</td><td>3275795.704108852</td></tr>",
                            "<tr><td>ERI ABC</td><td>ERI ABC</td><td>250039</td></tr>",
                            "<tr><td>ESH ABC</td><td>ESH ABC</td><td>284193.001</td></tr>",
                            "<tr><td>ESP ABC</td><td>ESP ABC</td><td>930300.6328434016</td></tr>",
                            "<tr><td>ETH ABC</td><td>ETH ABC</td><td>67916744.28763187</td></tr>",
                            "<tr><td>EURRB ABC</td><td>EURRB ABC</td><td>5013046.99911999</td></tr>",
                            "<tr><td>EVAL ABC</td><td>EVAL ABC</td><td>2947299.9909989354</td></tr>",
                            "<tr><td>FRA ABC</td><td>FRA ABC</td><td>1503385.6538148043</td></tr>",
                            "<tr><td>GBR ABC</td><td>GBR ABC</td><td>211395</td></tr>",
                            "<tr><td>GDS ABC</td><td>GDS ABC</td><td>9201126.00213802</td></tr>",
                            "<tr><td>GEO ABC</td><td>GEO ABC</td><td>2010820.002783685</td></tr>",
                            "<tr><td>CIV MC ABC</td><td>Ghana</td><td>1300000.0017484673</td></tr>",
                            "<tr><td>GRC ABC</td><td>GRC ABC</td><td>11308141.264375417</td></tr>",
                            "<tr><td>GTM ABC</td><td>GTM ABC</td><td>10346010.970198188</td></tr>",
                            "<tr><td>HND ABC</td><td>HND ABC</td><td>9287614.816910416</td></tr>",
                            "<tr><td>HRV ABC</td><td>HRV ABC</td><td>856408.9596596411</td></tr>",
                            "<tr><td>HUN MC ABC</td><td>Hungary MCO</td><td>3843182.276599893</td></tr>",
                            "<tr><td>IDN ABC</td><td>IDN ABC</td><td>3636696.9965253696</td></tr>",
                            "<tr><td>IND ABC</td><td>IND ABC</td><td>4957921.992403492</td></tr>",
                            "<tr><td>INNV ABC</td><td>INNV ABC</td><td>5031254.002112636</td></tr>",
                            "<tr><td>INVP ABC</td><td>INVP ABC</td><td>17771036</td></tr>",
                            "<tr><td>BEL MC ABC</td><td>Ireland</td><td>140466.00006075655</td></tr>",
                            "<tr><td>IRN ABC</td><td>IRN ABC</td><td>20272509.999136366</td></tr>",
                            "<tr><td>IRQ ABC</td><td>IRQ ABC</td><td>70773070.00255182</td></tr>",
                            "<tr><td>ISR ABC</td><td>ISR ABC</td><td>1129162.0011517021</td></tr>",
                            "<tr><td>ITA MC ABC</td><td>Italy MCO</td><td>3971965.8914288576</td></tr>",
                            "<tr><td>JOR ABC</td><td>JOR ABC</td><td>107955289.5753359</td></tr>",
                            "<tr><td>JPN ABC</td><td>JPN ABC</td><td>499227.1717600358</td></tr>",
                            "<tr><td>KAZ MC ABC</td><td>Kazakhstan MCO</td><td>1693103.0027628292</td></tr>",
                            "<tr><td>KEN ABC</td><td>KEN ABC</td><td>50044788.28459736</td></tr>",
                            "<tr><td>KOR ABC</td><td>KOR ABC</td><td>526145.0006338776</td></tr>",
                            "<tr><td>KOS ABC</td><td>KOS ABC</td><td>829077.9924142589</td></tr>",
                            "<tr><td>SAU MC ABC</td><td>Kuwait</td><td>228074.88</td></tr>",
                            "<tr><td>LBN ABC</td><td>LBN ABC</td><td>139965121.98832378</td></tr>",
                            "<tr><td>LBY ABC</td><td>LBY ABC</td><td>15536438.003108125</td></tr>",
                            "<tr><td>LKA ABC</td><td>LKA ABC</td><td>514999.98679704726</td></tr>",
                            "<tr><td>BEL MC ABC</td><td>Luxembourg</td><td>43308.17447375795</td></tr>",
                            "<tr><td>MAR ABC</td><td>MAR ABC</td><td>5357851.00656077</td></tr>",
                            "<tr><td>MDA ABC</td><td>MDA ABC</td><td>47966753.55602611</td></tr>",
                            "<tr><td>MENARB ABC</td><td>MENARB ABC</td><td>8743119.002003357</td></tr>",
                            "<tr><td>MEX ABC</td><td>MEX ABC</td><td>39040102.9951455</td></tr>",
                            "<tr><td>MKD ABC</td><td>MKD ABC</td><td>811304.6226698549</td></tr>",
                            "<tr><td>MLI ABC</td><td>MLI ABC</td><td>15051480.493180402</td></tr>",
                            "<tr><td>MLT ABC</td><td>MLT ABC</td><td>162805.59290267673</td></tr>",
                            "<tr><td>MMR ABC</td><td>MMR ABC</td><td>14947954.89252297</td></tr>",
                            "<tr><td>MNE ABC</td><td>MNE ABC</td><td>759500.0005944978</td></tr>",
                            "<tr><td>MOZ ABC</td><td>MOZ ABC</td><td>10179394.00422078</td></tr>",
                            "<tr><td>MRT ABC</td><td>MRT ABC</td><td>14678740.987270294</td></tr>",
                            "<tr><td>MWI ABC</td><td>MWI ABC</td><td>2389376.995994521</td></tr>",
                            "<tr><td>MYS ABC</td><td>MYS ABC</td><td>2537911.965211425</td></tr>",
                            "<tr><td>NER ABC</td><td>NER ABC</td><td>34011137.99845602</td></tr>",
                            "<tr><td>BEL MC ABC</td><td>Netherlands</td><td>52046.12793279719</td></tr>",
                            "<tr><td>NGA ABC</td><td>NGA ABC</td><td>14879223.000022892</td></tr>",
                            "<tr><td>NPL ABC</td><td>NPL ABC</td><td>1737419.9986630743</td></tr>",
                            "<tr><td>OOA ABC</td><td>OOA ABC</td><td>154752</td></tr>",
                            "<tr><td>OOE ABC</td><td>OOE Plan</td><td>83751</td></tr>",
                            "<tr><td>OOM ABC</td><td>OOM ABC</td><td>10601391.99950001</td></tr>",
                            "<tr><td>OOR ABC</td><td>OOR ABC</td><td>2485007</td></tr>",
                            "<tr><td>PAK ABC</td><td>PAK ABC</td><td>25106453.000759147</td></tr>",
                            "<tr><td>PAN MC ABC</td><td>Panama MCO</td><td>7953705.63298488</td></tr>",
                            "<tr><td>PER ABC</td><td>PER ABC</td><td>10293363.001489427</td></tr>",
                            "<tr><td>PHL ABC</td><td>PHL ABC</td><td>731771.3286424363</td></tr>",
                            "<tr><td>POL ABC</td><td>POL ABC</td><td>18542492.00349549</td></tr>",
                            "<tr><td>OOE ABC</td><td>Portugal</td><td>608770.00211275</td></tr>",
                            "<tr><td>PSP ABC</td><td>PSP ABC</td><td>127729219.28143483</td></tr>",
                            "<tr><td>SAU MC ABC</td><td>Qatar</td><td>55000</td></tr>",
                            "<tr><td>ROU ABC</td><td>ROU ABC</td><td>14302499.425527114</td></tr>",
                            "<tr><td>RUS ABC</td><td>RUS ABC</td><td>3198279.998319805</td></tr>",
                            "<tr><td>RWA ABC</td><td>RWA ABC</td><td>15871207.99609813</td></tr>",
                            "<tr><td>SAORB ABC</td><td>SAORB ABC</td><td>949221.000891701</td></tr>",
                            "<tr><td>SAU MC ABC</td><td>Saudi Arabia MCO</td><td>433210</td></tr>",
                            "<tr><td>SDN ABC</td><td>SDN ABC</td><td>56440217.0060496</td></tr>",
                            "<tr><td>SEN MC ABC</td><td>Senegal MCO</td><td>1673511.4320333346</td></tr>",
                            "<tr><td>HUN MC ABC</td><td>Slovakia</td><td>4950000.450158263</td></tr>",
                            "<tr><td>SLV ABC</td><td>SLV ABC</td><td>10736418.00246402</td></tr>",
                            "<tr><td>SOM ABC</td><td>SOM ABC</td><td>15068428.001638995</td></tr>",
                            "<tr><td>ZAF MC ABC</td><td>South Africa MCO</td><td>3271506.99899726</td></tr>",
                            "<tr><td>SRB ABC</td><td>SRB ABC</td><td>3010061.998674711</td></tr>",
                            "<tr><td>SSD ABC</td><td>SSD ABC</td><td>52066027.11586926</td></tr>",
                            "<tr><td>SWE MC ABC</td><td>Sweden MCO</td><td>2475437.998830307</td></tr>",
                            "<tr><td>OOE ABC</td><td>Switzerland</td><td>240000.00112319327</td></tr>",
                            "<tr><td>SYR ABC</td><td>SYR ABC</td><td>73665451.49525848</td></tr>",
                            "<tr><td>TCD ABC</td><td>TCD ABC</td><td>57335519.00039284</td></tr>",
                            "<tr><td>THA MC ABC</td><td>Thailand</td><td>6698964.161661278</td></tr>",
                            "<tr><td>TJK ABC</td><td>TJK ABC</td><td>1008300.0034847244</td></tr>",
                            "<tr><td>CIV MC ABC</td><td>Togo</td><td>2330000.0091129923</td></tr>",
                            "<tr><td>TUN ABC</td><td>TUN ABC</td><td>5543752.993713254</td></tr>",
                            "<tr><td>TUR ABC</td><td>TUR ABC</td><td>73260339.99724694</td></tr>",
                            "<tr><td>TZA ABC</td><td>TZA ABC</td><td>16415390.995282602</td></tr>",
                            "<tr><td>UGA ABC</td><td>UGA ABC</td><td>84906108.16172662</td></tr>",
                            "<tr><td>UKR ABC</td><td>UKR ABC</td><td>177954892.997805</td></tr>",
                            "<tr><td>SAU MC ABC</td><td>United Arab Emirates</td><td>299120.12</td></tr>",
                            "<tr><td>USA MC ABC</td><td>United States MCO</td><td>4385432.98631726</td></tr>",
                            "<tr><td>VEN ABC</td><td>VEN ABC</td><td>7292592.002499969</td></tr>",
                            "<tr><td>WCARB ABC</td><td>WCARB ABC</td><td>2063987.9957019377</td></tr>",
                            "<tr><td>XAS ABC</td><td>XAS ABC</td><td>1060690.9334061707</td></tr>",
                            "<tr><td>YEM ABC</td><td>YEM ABC</td><td>61091576.000183985</td></tr>",
                            "<tr><td>ZMB ABC</td><td>ZMB ABC</td><td>3141069.905412093</td></tr>",
                            "<tr><td>ZWE ABC</td><td>ZWE ABC</td><td>1534422</td></tr>",
                            "</table>"
                        ]
                    }
                }
            ],
            "execution_count": 7
        }
    ]
}